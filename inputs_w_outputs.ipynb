{
 "cells": [
  {
   "cell_type": "code",
   "execution_count": 4358,
   "metadata": {},
   "outputs": [],
   "source": [
    "import pandas as pd\n",
    "import numpy as np\n",
    "from sklearn.linear_model import LinearRegression\n",
    "from sklearn.ensemble import RandomForestRegressor\n",
    "from sklearn.preprocessing import StandardScaler\n",
    "from sklearn.model_selection import train_test_split\n",
    "import matplotlib.pyplot as plt\n",
    "import seaborn as sns\n",
    "from sklearn.decomposition import PCA\n",
    "from sklearn.manifold import TSNE\n",
    "from sklearn.model_selection import KFold, train_test_split\n",
    "from sklearn.linear_model import Ridge, Lasso\n",
    "from sklearn.metrics import mean_squared_error, mean_absolute_error\n",
    "\n",
    "data = pd.read_excel('data/data_io.xlsx', names = ['time (min)', 'm_xylene', 'NO', 'NO2', 'NOx', 'NOx/m_xy', 'M0', 'yield'])\n",
    "data.drop(columns = ['NO', 'NO2', 'NOx/m_xy'], inplace = True)\n",
    "#data['NOx'] = 1 / data['NOx']\n",
    "scaler = StandardScaler()"
   ]
  },
  {
   "cell_type": "code",
   "execution_count": 4359,
   "metadata": {},
   "outputs": [
    {
     "data": {
      "text/plain": [
       "(37, 3)"
      ]
     },
     "execution_count": 4359,
     "metadata": {},
     "output_type": "execute_result"
    }
   ],
   "source": [
    "X = scaler.fit_transform(data[data.columns[:-2]])\n",
    "y1 = data[data.columns[-2]].to_numpy()\n",
    "y2 = data[data.columns[-1]].to_numpy()\n",
    "X.shape"
   ]
  },
  {
   "cell_type": "code",
   "execution_count": 4360,
   "metadata": {},
   "outputs": [
    {
     "data": {
      "text/plain": [
       "array([ 39.67042649,  -2.87565065,  66.07366037, -25.07263559])"
      ]
     },
     "execution_count": 4360,
     "metadata": {},
     "output_type": "execute_result"
    }
   ],
   "source": [
    "from statsmodels.regression.linear_model import OLS\n",
    "import statsmodels.api as sm\n",
    "# yields\n",
    "X = sm.add_constant(X)\n",
    "model = OLS(y1, X).fit()\n",
    "model.params"
   ]
  },
  {
   "cell_type": "code",
   "execution_count": 4361,
   "metadata": {},
   "outputs": [
    {
     "data": {
      "text/html": [
       "<table class=\"simpletable\">\n",
       "<caption>OLS Regression Results</caption>\n",
       "<tr>\n",
       "  <th>Dep. Variable:</th>            <td>y</td>        <th>  R-squared:         </th> <td>   0.942</td>\n",
       "</tr>\n",
       "<tr>\n",
       "  <th>Model:</th>                   <td>OLS</td>       <th>  Adj. R-squared:    </th> <td>   0.937</td>\n",
       "</tr>\n",
       "<tr>\n",
       "  <th>Method:</th>             <td>Least Squares</td>  <th>  F-statistic:       </th> <td>   179.9</td>\n",
       "</tr>\n",
       "<tr>\n",
       "  <th>Date:</th>             <td>Wed, 19 Jul 2023</td> <th>  Prob (F-statistic):</th> <td>1.61e-20</td>\n",
       "</tr>\n",
       "<tr>\n",
       "  <th>Time:</th>                 <td>14:45:19</td>     <th>  Log-Likelihood:    </th> <td> -141.45</td>\n",
       "</tr>\n",
       "<tr>\n",
       "  <th>No. Observations:</th>      <td>    37</td>      <th>  AIC:               </th> <td>   290.9</td>\n",
       "</tr>\n",
       "<tr>\n",
       "  <th>Df Residuals:</th>          <td>    33</td>      <th>  BIC:               </th> <td>   297.3</td>\n",
       "</tr>\n",
       "<tr>\n",
       "  <th>Df Model:</th>              <td>     3</td>      <th>                     </th>     <td> </td>   \n",
       "</tr>\n",
       "<tr>\n",
       "  <th>Covariance Type:</th>      <td>nonrobust</td>    <th>                     </th>     <td> </td>   \n",
       "</tr>\n",
       "</table>\n",
       "<table class=\"simpletable\">\n",
       "<tr>\n",
       "    <td></td>       <th>coef</th>     <th>std err</th>      <th>t</th>      <th>P>|t|</th>  <th>[0.025</th>    <th>0.975]</th>  \n",
       "</tr>\n",
       "<tr>\n",
       "  <th>const</th> <td>   39.6704</td> <td>    1.927</td> <td>   20.589</td> <td> 0.000</td> <td>   35.750</td> <td>   43.590</td>\n",
       "</tr>\n",
       "<tr>\n",
       "  <th>x1</th>    <td>   -2.8757</td> <td>    2.002</td> <td>   -1.436</td> <td> 0.160</td> <td>   -6.948</td> <td>    1.197</td>\n",
       "</tr>\n",
       "<tr>\n",
       "  <th>x2</th>    <td>   66.0737</td> <td>    4.171</td> <td>   15.842</td> <td> 0.000</td> <td>   57.588</td> <td>   74.559</td>\n",
       "</tr>\n",
       "<tr>\n",
       "  <th>x3</th>    <td>  -25.0726</td> <td>    4.172</td> <td>   -6.010</td> <td> 0.000</td> <td>  -33.561</td> <td>  -16.584</td>\n",
       "</tr>\n",
       "</table>\n",
       "<table class=\"simpletable\">\n",
       "<tr>\n",
       "  <th>Omnibus:</th>       <td> 4.098</td> <th>  Durbin-Watson:     </th> <td>   1.905</td>\n",
       "</tr>\n",
       "<tr>\n",
       "  <th>Prob(Omnibus):</th> <td> 0.129</td> <th>  Jarque-Bera (JB):  </th> <td>   2.766</td>\n",
       "</tr>\n",
       "<tr>\n",
       "  <th>Skew:</th>          <td> 0.601</td> <th>  Prob(JB):          </th> <td>   0.251</td>\n",
       "</tr>\n",
       "<tr>\n",
       "  <th>Kurtosis:</th>      <td> 3.592</td> <th>  Cond. No.          </th> <td>    4.22</td>\n",
       "</tr>\n",
       "</table><br/><br/>Notes:<br/>[1] Standard Errors assume that the covariance matrix of the errors is correctly specified."
      ],
      "text/latex": [
       "\\begin{center}\n",
       "\\begin{tabular}{lclc}\n",
       "\\toprule\n",
       "\\textbf{Dep. Variable:}    &        y         & \\textbf{  R-squared:         } &     0.942   \\\\\n",
       "\\textbf{Model:}            &       OLS        & \\textbf{  Adj. R-squared:    } &     0.937   \\\\\n",
       "\\textbf{Method:}           &  Least Squares   & \\textbf{  F-statistic:       } &     179.9   \\\\\n",
       "\\textbf{Date:}             & Wed, 19 Jul 2023 & \\textbf{  Prob (F-statistic):} &  1.61e-20   \\\\\n",
       "\\textbf{Time:}             &     14:45:19     & \\textbf{  Log-Likelihood:    } &   -141.45   \\\\\n",
       "\\textbf{No. Observations:} &          37      & \\textbf{  AIC:               } &     290.9   \\\\\n",
       "\\textbf{Df Residuals:}     &          33      & \\textbf{  BIC:               } &     297.3   \\\\\n",
       "\\textbf{Df Model:}         &           3      & \\textbf{                     } &             \\\\\n",
       "\\textbf{Covariance Type:}  &    nonrobust     & \\textbf{                     } &             \\\\\n",
       "\\bottomrule\n",
       "\\end{tabular}\n",
       "\\begin{tabular}{lcccccc}\n",
       "               & \\textbf{coef} & \\textbf{std err} & \\textbf{t} & \\textbf{P$> |$t$|$} & \\textbf{[0.025} & \\textbf{0.975]}  \\\\\n",
       "\\midrule\n",
       "\\textbf{const} &      39.6704  &        1.927     &    20.589  &         0.000        &       35.750    &       43.590     \\\\\n",
       "\\textbf{x1}    &      -2.8757  &        2.002     &    -1.436  &         0.160        &       -6.948    &        1.197     \\\\\n",
       "\\textbf{x2}    &      66.0737  &        4.171     &    15.842  &         0.000        &       57.588    &       74.559     \\\\\n",
       "\\textbf{x3}    &     -25.0726  &        4.172     &    -6.010  &         0.000        &      -33.561    &      -16.584     \\\\\n",
       "\\bottomrule\n",
       "\\end{tabular}\n",
       "\\begin{tabular}{lclc}\n",
       "\\textbf{Omnibus:}       &  4.098 & \\textbf{  Durbin-Watson:     } &    1.905  \\\\\n",
       "\\textbf{Prob(Omnibus):} &  0.129 & \\textbf{  Jarque-Bera (JB):  } &    2.766  \\\\\n",
       "\\textbf{Skew:}          &  0.601 & \\textbf{  Prob(JB):          } &    0.251  \\\\\n",
       "\\textbf{Kurtosis:}      &  3.592 & \\textbf{  Cond. No.          } &     4.22  \\\\\n",
       "\\bottomrule\n",
       "\\end{tabular}\n",
       "%\\caption{OLS Regression Results}\n",
       "\\end{center}\n",
       "\n",
       "Notes: \\newline\n",
       " [1] Standard Errors assume that the covariance matrix of the errors is correctly specified."
      ],
      "text/plain": [
       "<class 'statsmodels.iolib.summary.Summary'>\n",
       "\"\"\"\n",
       "                            OLS Regression Results                            \n",
       "==============================================================================\n",
       "Dep. Variable:                      y   R-squared:                       0.942\n",
       "Model:                            OLS   Adj. R-squared:                  0.937\n",
       "Method:                 Least Squares   F-statistic:                     179.9\n",
       "Date:                Wed, 19 Jul 2023   Prob (F-statistic):           1.61e-20\n",
       "Time:                        14:45:19   Log-Likelihood:                -141.45\n",
       "No. Observations:                  37   AIC:                             290.9\n",
       "Df Residuals:                      33   BIC:                             297.3\n",
       "Df Model:                           3                                         \n",
       "Covariance Type:            nonrobust                                         \n",
       "==============================================================================\n",
       "                 coef    std err          t      P>|t|      [0.025      0.975]\n",
       "------------------------------------------------------------------------------\n",
       "const         39.6704      1.927     20.589      0.000      35.750      43.590\n",
       "x1            -2.8757      2.002     -1.436      0.160      -6.948       1.197\n",
       "x2            66.0737      4.171     15.842      0.000      57.588      74.559\n",
       "x3           -25.0726      4.172     -6.010      0.000     -33.561     -16.584\n",
       "==============================================================================\n",
       "Omnibus:                        4.098   Durbin-Watson:                   1.905\n",
       "Prob(Omnibus):                  0.129   Jarque-Bera (JB):                2.766\n",
       "Skew:                           0.601   Prob(JB):                        0.251\n",
       "Kurtosis:                       3.592   Cond. No.                         4.22\n",
       "==============================================================================\n",
       "\n",
       "Notes:\n",
       "[1] Standard Errors assume that the covariance matrix of the errors is correctly specified.\n",
       "\"\"\""
      ]
     },
     "execution_count": 4361,
     "metadata": {},
     "output_type": "execute_result"
    }
   ],
   "source": [
    "model.summary()"
   ]
  },
  {
   "cell_type": "code",
   "execution_count": 4362,
   "metadata": {},
   "outputs": [
    {
     "data": {
      "text/plain": [
       "array([ 0.08958691, -0.00683546,  0.05508334, -0.04542872])"
      ]
     },
     "execution_count": 4362,
     "metadata": {},
     "output_type": "execute_result"
    }
   ],
   "source": [
    "# M0\n",
    "model = OLS(y2, X).fit()\n",
    "model.params"
   ]
  },
  {
   "cell_type": "code",
   "execution_count": 4363,
   "metadata": {},
   "outputs": [
    {
     "data": {
      "text/html": [
       "<table class=\"simpletable\">\n",
       "<caption>OLS Regression Results</caption>\n",
       "<tr>\n",
       "  <th>Dep. Variable:</th>            <td>y</td>        <th>  R-squared:         </th> <td>   0.412</td>\n",
       "</tr>\n",
       "<tr>\n",
       "  <th>Model:</th>                   <td>OLS</td>       <th>  Adj. R-squared:    </th> <td>   0.359</td>\n",
       "</tr>\n",
       "<tr>\n",
       "  <th>Method:</th>             <td>Least Squares</td>  <th>  F-statistic:       </th> <td>   7.710</td>\n",
       "</tr>\n",
       "<tr>\n",
       "  <th>Date:</th>             <td>Wed, 19 Jul 2023</td> <th>  Prob (F-statistic):</th> <td>0.000488</td>\n",
       "</tr>\n",
       "<tr>\n",
       "  <th>Time:</th>                 <td>14:45:19</td>     <th>  Log-Likelihood:    </th> <td>  76.004</td>\n",
       "</tr>\n",
       "<tr>\n",
       "  <th>No. Observations:</th>      <td>    37</td>      <th>  AIC:               </th> <td>  -144.0</td>\n",
       "</tr>\n",
       "<tr>\n",
       "  <th>Df Residuals:</th>          <td>    33</td>      <th>  BIC:               </th> <td>  -137.6</td>\n",
       "</tr>\n",
       "<tr>\n",
       "  <th>Df Model:</th>              <td>     3</td>      <th>                     </th>     <td> </td>   \n",
       "</tr>\n",
       "<tr>\n",
       "  <th>Covariance Type:</th>      <td>nonrobust</td>    <th>                     </th>     <td> </td>   \n",
       "</tr>\n",
       "</table>\n",
       "<table class=\"simpletable\">\n",
       "<tr>\n",
       "    <td></td>       <th>coef</th>     <th>std err</th>      <th>t</th>      <th>P>|t|</th>  <th>[0.025</th>    <th>0.975]</th>  \n",
       "</tr>\n",
       "<tr>\n",
       "  <th>const</th> <td>    0.0896</td> <td>    0.005</td> <td>   16.590</td> <td> 0.000</td> <td>    0.079</td> <td>    0.101</td>\n",
       "</tr>\n",
       "<tr>\n",
       "  <th>x1</th>    <td>   -0.0068</td> <td>    0.006</td> <td>   -1.218</td> <td> 0.232</td> <td>   -0.018</td> <td>    0.005</td>\n",
       "</tr>\n",
       "<tr>\n",
       "  <th>x2</th>    <td>    0.0551</td> <td>    0.012</td> <td>    4.712</td> <td> 0.000</td> <td>    0.031</td> <td>    0.079</td>\n",
       "</tr>\n",
       "<tr>\n",
       "  <th>x3</th>    <td>   -0.0454</td> <td>    0.012</td> <td>   -3.885</td> <td> 0.000</td> <td>   -0.069</td> <td>   -0.022</td>\n",
       "</tr>\n",
       "</table>\n",
       "<table class=\"simpletable\">\n",
       "<tr>\n",
       "  <th>Omnibus:</th>       <td>16.700</td> <th>  Durbin-Watson:     </th> <td>   1.717</td>\n",
       "</tr>\n",
       "<tr>\n",
       "  <th>Prob(Omnibus):</th> <td> 0.000</td> <th>  Jarque-Bera (JB):  </th> <td>  19.928</td>\n",
       "</tr>\n",
       "<tr>\n",
       "  <th>Skew:</th>          <td> 1.400</td> <th>  Prob(JB):          </th> <td>4.71e-05</td>\n",
       "</tr>\n",
       "<tr>\n",
       "  <th>Kurtosis:</th>      <td> 5.255</td> <th>  Cond. No.          </th> <td>    4.22</td>\n",
       "</tr>\n",
       "</table><br/><br/>Notes:<br/>[1] Standard Errors assume that the covariance matrix of the errors is correctly specified."
      ],
      "text/latex": [
       "\\begin{center}\n",
       "\\begin{tabular}{lclc}\n",
       "\\toprule\n",
       "\\textbf{Dep. Variable:}    &        y         & \\textbf{  R-squared:         } &     0.412   \\\\\n",
       "\\textbf{Model:}            &       OLS        & \\textbf{  Adj. R-squared:    } &     0.359   \\\\\n",
       "\\textbf{Method:}           &  Least Squares   & \\textbf{  F-statistic:       } &     7.710   \\\\\n",
       "\\textbf{Date:}             & Wed, 19 Jul 2023 & \\textbf{  Prob (F-statistic):} &  0.000488   \\\\\n",
       "\\textbf{Time:}             &     14:45:19     & \\textbf{  Log-Likelihood:    } &    76.004   \\\\\n",
       "\\textbf{No. Observations:} &          37      & \\textbf{  AIC:               } &    -144.0   \\\\\n",
       "\\textbf{Df Residuals:}     &          33      & \\textbf{  BIC:               } &    -137.6   \\\\\n",
       "\\textbf{Df Model:}         &           3      & \\textbf{                     } &             \\\\\n",
       "\\textbf{Covariance Type:}  &    nonrobust     & \\textbf{                     } &             \\\\\n",
       "\\bottomrule\n",
       "\\end{tabular}\n",
       "\\begin{tabular}{lcccccc}\n",
       "               & \\textbf{coef} & \\textbf{std err} & \\textbf{t} & \\textbf{P$> |$t$|$} & \\textbf{[0.025} & \\textbf{0.975]}  \\\\\n",
       "\\midrule\n",
       "\\textbf{const} &       0.0896  &        0.005     &    16.590  &         0.000        &        0.079    &        0.101     \\\\\n",
       "\\textbf{x1}    &      -0.0068  &        0.006     &    -1.218  &         0.232        &       -0.018    &        0.005     \\\\\n",
       "\\textbf{x2}    &       0.0551  &        0.012     &     4.712  &         0.000        &        0.031    &        0.079     \\\\\n",
       "\\textbf{x3}    &      -0.0454  &        0.012     &    -3.885  &         0.000        &       -0.069    &       -0.022     \\\\\n",
       "\\bottomrule\n",
       "\\end{tabular}\n",
       "\\begin{tabular}{lclc}\n",
       "\\textbf{Omnibus:}       & 16.700 & \\textbf{  Durbin-Watson:     } &    1.717  \\\\\n",
       "\\textbf{Prob(Omnibus):} &  0.000 & \\textbf{  Jarque-Bera (JB):  } &   19.928  \\\\\n",
       "\\textbf{Skew:}          &  1.400 & \\textbf{  Prob(JB):          } & 4.71e-05  \\\\\n",
       "\\textbf{Kurtosis:}      &  5.255 & \\textbf{  Cond. No.          } &     4.22  \\\\\n",
       "\\bottomrule\n",
       "\\end{tabular}\n",
       "%\\caption{OLS Regression Results}\n",
       "\\end{center}\n",
       "\n",
       "Notes: \\newline\n",
       " [1] Standard Errors assume that the covariance matrix of the errors is correctly specified."
      ],
      "text/plain": [
       "<class 'statsmodels.iolib.summary.Summary'>\n",
       "\"\"\"\n",
       "                            OLS Regression Results                            \n",
       "==============================================================================\n",
       "Dep. Variable:                      y   R-squared:                       0.412\n",
       "Model:                            OLS   Adj. R-squared:                  0.359\n",
       "Method:                 Least Squares   F-statistic:                     7.710\n",
       "Date:                Wed, 19 Jul 2023   Prob (F-statistic):           0.000488\n",
       "Time:                        14:45:19   Log-Likelihood:                 76.004\n",
       "No. Observations:                  37   AIC:                            -144.0\n",
       "Df Residuals:                      33   BIC:                            -137.6\n",
       "Df Model:                           3                                         \n",
       "Covariance Type:            nonrobust                                         \n",
       "==============================================================================\n",
       "                 coef    std err          t      P>|t|      [0.025      0.975]\n",
       "------------------------------------------------------------------------------\n",
       "const          0.0896      0.005     16.590      0.000       0.079       0.101\n",
       "x1            -0.0068      0.006     -1.218      0.232      -0.018       0.005\n",
       "x2             0.0551      0.012      4.712      0.000       0.031       0.079\n",
       "x3            -0.0454      0.012     -3.885      0.000      -0.069      -0.022\n",
       "==============================================================================\n",
       "Omnibus:                       16.700   Durbin-Watson:                   1.717\n",
       "Prob(Omnibus):                  0.000   Jarque-Bera (JB):               19.928\n",
       "Skew:                           1.400   Prob(JB):                     4.71e-05\n",
       "Kurtosis:                       5.255   Cond. No.                         4.22\n",
       "==============================================================================\n",
       "\n",
       "Notes:\n",
       "[1] Standard Errors assume that the covariance matrix of the errors is correctly specified.\n",
       "\"\"\""
      ]
     },
     "execution_count": 4363,
     "metadata": {},
     "output_type": "execute_result"
    }
   ],
   "source": [
    "model.summary()"
   ]
  },
  {
   "cell_type": "code",
   "execution_count": 4364,
   "metadata": {},
   "outputs": [],
   "source": [
    "def percent_error(actual, pred):\n",
    "    return np.mean(np.absolute((actual - pred) / pred) * 100)"
   ]
  },
  {
   "cell_type": "code",
   "execution_count": 4365,
   "metadata": {},
   "outputs": [],
   "source": [
    "# Set up the k-fold cross-validation\n",
    "k = 5  # Number of folds\n",
    "kf = KFold(n_splits=k, shuffle=True)\n",
    "\n",
    "# Initialize a list to store the MSE for each fold\n",
    "mse_scores = []\n",
    "percent_errs = []\n",
    "\n",
    "# Iterate over the folds\n",
    "for train_index, val_index in kf.split(X):\n",
    "    X_train, X_val = X[train_index], X[val_index]\n",
    "    y_train, y_val = y1[train_index], y1[val_index]\n",
    "\n",
    "    X_train = scaler.fit_transform(X_train)\n",
    "    X_val = scaler.transform(X_val)\n",
    "\n",
    "    # Create an instance of the Ridge model\n",
    "    model = Ridge(alpha=0.1)  # You can adjust the value of alpha for regularization\n",
    "\n",
    "    # Fit the model to the training data\n",
    "    model.fit(X_train, y_train)\n",
    "\n",
    "    # Make predictions on the validation data\n",
    "    y_pred = model.predict(X_val)\n",
    "\n",
    "    # Calculate the mean squared error (MSE)\n",
    "    mse = mean_squared_error(y_val, y_pred)\n",
    "    percent_err = percent_error(y_val, y_pred)\n",
    "    mse_scores.append(mse)\n",
    "    percent_errs.append(percent_err)\n",
    "\n",
    "# Calculate the average MSE across all folds\n",
    "avg_mse = np.mean(mse_scores)\n",
    "avg_percent_err = np.mean(percent_errs)\n",
    "\n",
    "\n"
   ]
  },
  {
   "cell_type": "code",
   "execution_count": 4366,
   "metadata": {},
   "outputs": [
    {
     "data": {
      "text/plain": [
       "(183.60544192766469, 4661.663106827722)"
      ]
     },
     "execution_count": 4366,
     "metadata": {},
     "output_type": "execute_result"
    }
   ],
   "source": [
    "# 1 / NOx, more consistent, less error\n",
    "avg_mse, avg_percent_err"
   ]
  },
  {
   "cell_type": "code",
   "execution_count": 4367,
   "metadata": {},
   "outputs": [],
   "source": [
    "# Set up the k-fold cross-validation\n",
    "k = 5  # Number of folds\n",
    "kf = KFold(n_splits=k, shuffle=True)\n",
    "\n",
    "# Initialize a list to store the MSE for each fold\n",
    "mae_scores = []\n",
    "percent_errs = []\n",
    "\n",
    "# Iterate over the folds\n",
    "for train_index, val_index in kf.split(X):\n",
    "    X_train, X_val = X[train_index], X[val_index]\n",
    "    y_train, y_val = y2[train_index], y2[val_index]\n",
    "\n",
    "    X_train = scaler.fit_transform(X_train)\n",
    "    X_val = scaler.transform(X_val)\n",
    "\n",
    "    # Create an instance of the Ridge model\n",
    "    model = Ridge(alpha=0.1)  # You can adjust the value of alpha for regularization\n",
    "\n",
    "    # Fit the model to the training data\n",
    "    model.fit(X_train, y_train)\n",
    "\n",
    "    # Make predictions on the validation data\n",
    "    y_pred = model.predict(X_val)\n",
    "\n",
    "    # Calculate the mean absolute error (MAE)\n",
    "    mae = mean_absolute_error(y_val, y_pred)\n",
    "    percent_err = percent_error(y_val, y_pred)\n",
    "    mae_scores.append(mae)\n",
    "    percent_errs.append(percent_err)\n",
    "\n",
    "# Calculate the average MSE across all folds\n",
    "avg_mae = np.mean(mae_scores)\n",
    "avg_percent_err = np.mean(percent_errs)"
   ]
  },
  {
   "cell_type": "code",
   "execution_count": 4368,
   "metadata": {},
   "outputs": [
    {
     "data": {
      "text/plain": [
       "(0.02318407445934668, 28.025106046618184)"
      ]
     },
     "execution_count": 4368,
     "metadata": {},
     "output_type": "execute_result"
    }
   ],
   "source": [
    "avg_mae, avg_percent_err"
   ]
  },
  {
   "cell_type": "code",
   "execution_count": 4369,
   "metadata": {},
   "outputs": [
    {
     "data": {
      "text/plain": [
       "array([ 25.75180457,  31.24296513,  77.42741123,  15.00929744,\n",
       "        14.54747319,   3.96243641,  60.44597767, 151.77129626])"
      ]
     },
     "execution_count": 4369,
     "metadata": {},
     "output_type": "execute_result"
    }
   ],
   "source": [
    "X_train, X_test, y_train, y_test = train_test_split(X, y1, test_size = 0.2, random_state = 10)\n",
    "model = Ridge(alpha = 0.1)\n",
    "model.fit(X_train, y_train)\n",
    "y_pred = model.predict(X_test)\n",
    "y_pred"
   ]
  },
  {
   "cell_type": "code",
   "execution_count": 4370,
   "metadata": {},
   "outputs": [
    {
     "data": {
      "text/plain": [
       "array([ 32.62112,  63.     ,  75.222  ,  11.55588,  11.60712,  12.19596,\n",
       "        88.84008, 183.96   ])"
      ]
     },
     "execution_count": 4370,
     "metadata": {},
     "output_type": "execute_result"
    }
   ],
   "source": [
    "y_test"
   ]
  },
  {
   "cell_type": "code",
   "execution_count": 4371,
   "metadata": {},
   "outputs": [
    {
     "data": {
      "text/plain": [
       "56.29524198727415"
      ]
     },
     "execution_count": 4371,
     "metadata": {},
     "output_type": "execute_result"
    }
   ],
   "source": [
    "percent_error(y_test, y_pred)"
   ]
  },
  {
   "cell_type": "code",
   "execution_count": 4372,
   "metadata": {},
   "outputs": [
    {
     "data": {
      "text/plain": [
       "array([0.0720846 , 0.08516251, 0.07940176, 0.07760962, 0.04842421,\n",
       "       0.08423164, 0.08264891, 0.09833232])"
      ]
     },
     "execution_count": 4372,
     "metadata": {},
     "output_type": "execute_result"
    }
   ],
   "source": [
    "X_train, X_test, y_train, y_test = train_test_split(X, y2, test_size = 0.2, random_state = 20)\n",
    "model = Ridge(alpha = 0.1)\n",
    "model.fit(X_train, y_train)\n",
    "y_pred = model.predict(X_test)\n",
    "y_pred"
   ]
  },
  {
   "cell_type": "code",
   "execution_count": 4373,
   "metadata": {},
   "outputs": [
    {
     "data": {
      "text/plain": [
       "array([0.06581399, 0.09846962, 0.06643457, 0.08507576, 0.04266969,\n",
       "       0.05002047, 0.06016967, 0.19284756])"
      ]
     },
     "execution_count": 4373,
     "metadata": {},
     "output_type": "execute_result"
    }
   ],
   "source": [
    "y_test"
   ]
  },
  {
   "cell_type": "code",
   "execution_count": 4374,
   "metadata": {},
   "outputs": [
    {
     "data": {
      "text/plain": [
       "28.261440350526506"
      ]
     },
     "execution_count": 4374,
     "metadata": {},
     "output_type": "execute_result"
    }
   ],
   "source": [
    "percent_error(y_test, y_pred)"
   ]
  },
  {
   "cell_type": "markdown",
   "metadata": {},
   "source": [
    "# PCA"
   ]
  },
  {
   "cell_type": "code",
   "execution_count": 4375,
   "metadata": {},
   "outputs": [],
   "source": [
    "data = pd.read_excel('data/data_io.xlsx', names = ['time (min)', 'm_xylene', 'NO', 'NO2', 'NOx', 'NOx/m_xy', 'M0', 'yield'])\n",
    "#data = pd.read_excel('data/data_temp.xlsx', names = ['time (min)', 'm_xylene', 'NO', 'NO2', 'NOx', 'NOx/m_xy', 'wall loss factor', 'M0', 'yield'])\n",
    "X = data[data.columns[:-2]]\n",
    "y = data[data.columns[-2:]]\n",
    "y1 = data[data.columns[-2]]\n",
    "y2 = data[data.columns[-1]]"
   ]
  },
  {
   "cell_type": "code",
   "execution_count": 4376,
   "metadata": {},
   "outputs": [
    {
     "data": {
      "text/plain": [
       "'Percent of Variance Captured by 3 Principal Components: 96.15%'"
      ]
     },
     "execution_count": 4376,
     "metadata": {},
     "output_type": "execute_result"
    }
   ],
   "source": [
    "n_components = 3\n",
    "X_scaled = scaler.fit_transform(X)\n",
    "pca = PCA(n_components = n_components)\n",
    "X_pca = pca.fit_transform(X_scaled)\n",
    "\n",
    "ratio = pca.explained_variance_ratio_\n",
    "f'Percent of Variance Captured by {n_components} Principal Components: {ratio.sum():.2%}'"
   ]
  },
  {
   "cell_type": "code",
   "execution_count": 4377,
   "metadata": {},
   "outputs": [
    {
     "data": {
      "image/png": "[encoded data removed]",
      "text/plain": [
       "<Figure size 1200x600 with 2 Axes>"
      ]
     },
     "metadata": {},
     "output_type": "display_data"
    }
   ],
   "source": [
    "loadings = pca.components_\n",
    "loadings = np.round(pd.DataFrame(loadings, columns = X.columns), 3)\n",
    "plt.figure(figsize = (12, 6))\n",
    "sns.set(font_scale = 1.2)\n",
    "sns.set_style('whitegrid')\n",
    "ax = sns.heatmap(loadings, annot = True, cmap = 'coolwarm', center = 0, linewidths = 0.5,\n",
    "            cbar_kws = {'shrink': 0.8, 'aspect': 10, 'pad': 0.02},\n",
    "            annot_kws = {'fontsize': 12})\n",
    "\n",
    "ax.tick_params(axis = 'both', labelsize = 12)\n",
    "ax.set_title('PCA Feature Influence', fontsize = 16, pad = 15)\n",
    "ax.set_xlabel('Features', fontsize = 14, labelpad = 10)\n",
    "ax.set_ylabel('Principal Components', fontsize = 14, labelpad = 10)\n",
    "\n",
    "ax.yaxis.set_ticklabels(ax.yaxis.get_ticklabels(), rotation=0, ha='right')\n",
    "\n",
    "plt.tight_layout()\n",
    "plt.show()"
   ]
  },
  {
   "cell_type": "code",
   "execution_count": 4378,
   "metadata": {},
   "outputs": [
    {
     "data": {
      "text/plain": [
       "array([0.70727934, 0.15887953, 0.09533627])"
      ]
     },
     "execution_count": 4378,
     "metadata": {},
     "output_type": "execute_result"
    }
   ],
   "source": [
    "pca.explained_variance_ratio_"
   ]
  },
  {
   "cell_type": "code",
   "execution_count": 4379,
   "metadata": {},
   "outputs": [
    {
     "data": {
      "image/png": "[encoded data removed]",
      "text/plain": [
       "<Figure size 640x480 with 2 Axes>"
      ]
     },
     "metadata": {},
     "output_type": "display_data"
    }
   ],
   "source": [
    "fig, ax = plt.subplots()\n",
    "\n",
    "scatter = ax.scatter(X_pca[:, 0], X_pca[:, 1], c=y1, cmap='viridis')\n",
    "\n",
    "cbar = fig.colorbar(scatter)\n",
    "cbar.set_label('M0')\n",
    "\n",
    "ax.set_xlabel('PCA Component 1')\n",
    "ax.set_ylabel('PCA Component 2')\n",
    "ax.set_title('PCA Components with Heatmap for M0')\n",
    "\n",
    "plt.show()"
   ]
  },
  {
   "cell_type": "code",
   "execution_count": 4380,
   "metadata": {},
   "outputs": [
    {
     "data": {
      "image/png": "[encoded data removed]",
      "text/plain": [
       "<Figure size 640x480 with 2 Axes>"
      ]
     },
     "metadata": {},
     "output_type": "display_data"
    }
   ],
   "source": [
    "fig, ax = plt.subplots()\n",
    "\n",
    "scatter = ax.scatter(X_pca[:, 0], X_pca[:, 1], c=y2, cmap='viridis')\n",
    "\n",
    "cbar = fig.colorbar(scatter)\n",
    "cbar.set_label('yield')\n",
    "\n",
    "ax.set_xlabel('PCA Component 1')\n",
    "ax.set_ylabel('PCA Component 2')\n",
    "ax.set_title('PCA Components with Heatmap for yield')\n",
    "\n",
    "plt.show()"
   ]
  },
  {
   "cell_type": "code",
   "execution_count": 4381,
   "metadata": {},
   "outputs": [
    {
     "data": {
      "text/html": [
       "<table class=\"simpletable\">\n",
       "<caption>OLS Regression Results</caption>\n",
       "<tr>\n",
       "  <th>Dep. Variable:</th>           <td>M0</td>        <th>  R-squared (uncentered):</th>      <td>   0.476</td>\n",
       "</tr>\n",
       "<tr>\n",
       "  <th>Model:</th>                   <td>OLS</td>       <th>  Adj. R-squared (uncentered):</th> <td>   0.430</td>\n",
       "</tr>\n",
       "<tr>\n",
       "  <th>Method:</th>             <td>Least Squares</td>  <th>  F-statistic:       </th>          <td>   10.30</td>\n",
       "</tr>\n",
       "<tr>\n",
       "  <th>Date:</th>             <td>Wed, 19 Jul 2023</td> <th>  Prob (F-statistic):</th>          <td>5.72e-05</td>\n",
       "</tr>\n",
       "<tr>\n",
       "  <th>Time:</th>                 <td>14:45:20</td>     <th>  Log-Likelihood:    </th>          <td> -192.54</td>\n",
       "</tr>\n",
       "<tr>\n",
       "  <th>No. Observations:</th>      <td>    37</td>      <th>  AIC:               </th>          <td>   391.1</td>\n",
       "</tr>\n",
       "<tr>\n",
       "  <th>Df Residuals:</th>          <td>    34</td>      <th>  BIC:               </th>          <td>   395.9</td>\n",
       "</tr>\n",
       "<tr>\n",
       "  <th>Df Model:</th>              <td>     3</td>      <th>                     </th>              <td> </td>   \n",
       "</tr>\n",
       "<tr>\n",
       "  <th>Covariance Type:</th>      <td>nonrobust</td>    <th>                     </th>              <td> </td>   \n",
       "</tr>\n",
       "</table>\n",
       "<table class=\"simpletable\">\n",
       "<tr>\n",
       "   <td></td>     <th>coef</th>     <th>std err</th>      <th>t</th>      <th>P>|t|</th>  <th>[0.025</th>    <th>0.975]</th>  \n",
       "</tr>\n",
       "<tr>\n",
       "  <th>x1</th> <td>   15.7569</td> <td>    3.666</td> <td>    4.298</td> <td> 0.000</td> <td>    8.307</td> <td>   23.207</td>\n",
       "</tr>\n",
       "<tr>\n",
       "  <th>x2</th> <td>   -4.1019</td> <td>    7.734</td> <td>   -0.530</td> <td> 0.599</td> <td>  -19.820</td> <td>   11.616</td>\n",
       "</tr>\n",
       "<tr>\n",
       "  <th>x3</th> <td>   34.7728</td> <td>    9.985</td> <td>    3.483</td> <td> 0.001</td> <td>   14.482</td> <td>   55.064</td>\n",
       "</tr>\n",
       "</table>\n",
       "<table class=\"simpletable\">\n",
       "<tr>\n",
       "  <th>Omnibus:</th>       <td>15.179</td> <th>  Durbin-Watson:     </th> <td>   0.339</td>\n",
       "</tr>\n",
       "<tr>\n",
       "  <th>Prob(Omnibus):</th> <td> 0.001</td> <th>  Jarque-Bera (JB):  </th> <td>  17.212</td>\n",
       "</tr>\n",
       "<tr>\n",
       "  <th>Skew:</th>          <td> 1.302</td> <th>  Prob(JB):          </th> <td>0.000183</td>\n",
       "</tr>\n",
       "<tr>\n",
       "  <th>Kurtosis:</th>      <td> 5.093</td> <th>  Cond. No.          </th> <td>    2.72</td>\n",
       "</tr>\n",
       "</table><br/><br/>Notes:<br/>[1] R² is computed without centering (uncentered) since the model does not contain a constant.<br/>[2] Standard Errors assume that the covariance matrix of the errors is correctly specified."
      ],
      "text/latex": [
       "\\begin{center}\n",
       "\\begin{tabular}{lclc}\n",
       "\\toprule\n",
       "\\textbf{Dep. Variable:}    &        M0        & \\textbf{  R-squared (uncentered):}      &     0.476   \\\\\n",
       "\\textbf{Model:}            &       OLS        & \\textbf{  Adj. R-squared (uncentered):} &     0.430   \\\\\n",
       "\\textbf{Method:}           &  Least Squares   & \\textbf{  F-statistic:       }          &     10.30   \\\\\n",
       "\\textbf{Date:}             & Wed, 19 Jul 2023 & \\textbf{  Prob (F-statistic):}          &  5.72e-05   \\\\\n",
       "\\textbf{Time:}             &     14:45:20     & \\textbf{  Log-Likelihood:    }          &   -192.54   \\\\\n",
       "\\textbf{No. Observations:} &          37      & \\textbf{  AIC:               }          &     391.1   \\\\\n",
       "\\textbf{Df Residuals:}     &          34      & \\textbf{  BIC:               }          &     395.9   \\\\\n",
       "\\textbf{Df Model:}         &           3      & \\textbf{                     }          &             \\\\\n",
       "\\textbf{Covariance Type:}  &    nonrobust     & \\textbf{                     }          &             \\\\\n",
       "\\bottomrule\n",
       "\\end{tabular}\n",
       "\\begin{tabular}{lcccccc}\n",
       "            & \\textbf{coef} & \\textbf{std err} & \\textbf{t} & \\textbf{P$> |$t$|$} & \\textbf{[0.025} & \\textbf{0.975]}  \\\\\n",
       "\\midrule\n",
       "\\textbf{x1} &      15.7569  &        3.666     &     4.298  &         0.000        &        8.307    &       23.207     \\\\\n",
       "\\textbf{x2} &      -4.1019  &        7.734     &    -0.530  &         0.599        &      -19.820    &       11.616     \\\\\n",
       "\\textbf{x3} &      34.7728  &        9.985     &     3.483  &         0.001        &       14.482    &       55.064     \\\\\n",
       "\\bottomrule\n",
       "\\end{tabular}\n",
       "\\begin{tabular}{lclc}\n",
       "\\textbf{Omnibus:}       & 15.179 & \\textbf{  Durbin-Watson:     } &    0.339  \\\\\n",
       "\\textbf{Prob(Omnibus):} &  0.001 & \\textbf{  Jarque-Bera (JB):  } &   17.212  \\\\\n",
       "\\textbf{Skew:}          &  1.302 & \\textbf{  Prob(JB):          } & 0.000183  \\\\\n",
       "\\textbf{Kurtosis:}      &  5.093 & \\textbf{  Cond. No.          } &     2.72  \\\\\n",
       "\\bottomrule\n",
       "\\end{tabular}\n",
       "%\\caption{OLS Regression Results}\n",
       "\\end{center}\n",
       "\n",
       "Notes: \\newline\n",
       " [1] R² is computed without centering (uncentered) since the model does not contain a constant. \\newline\n",
       " [2] Standard Errors assume that the covariance matrix of the errors is correctly specified."
      ],
      "text/plain": [
       "<class 'statsmodels.iolib.summary.Summary'>\n",
       "\"\"\"\n",
       "                                 OLS Regression Results                                \n",
       "=======================================================================================\n",
       "Dep. Variable:                     M0   R-squared (uncentered):                   0.476\n",
       "Model:                            OLS   Adj. R-squared (uncentered):              0.430\n",
       "Method:                 Least Squares   F-statistic:                              10.30\n",
       "Date:                Wed, 19 Jul 2023   Prob (F-statistic):                    5.72e-05\n",
       "Time:                        14:45:20   Log-Likelihood:                         -192.54\n",
       "No. Observations:                  37   AIC:                                      391.1\n",
       "Df Residuals:                      34   BIC:                                      395.9\n",
       "Df Model:                           3                                                  \n",
       "Covariance Type:            nonrobust                                                  \n",
       "==============================================================================\n",
       "                 coef    std err          t      P>|t|      [0.025      0.975]\n",
       "------------------------------------------------------------------------------\n",
       "x1            15.7569      3.666      4.298      0.000       8.307      23.207\n",
       "x2            -4.1019      7.734     -0.530      0.599     -19.820      11.616\n",
       "x3            34.7728      9.985      3.483      0.001      14.482      55.064\n",
       "==============================================================================\n",
       "Omnibus:                       15.179   Durbin-Watson:                   0.339\n",
       "Prob(Omnibus):                  0.001   Jarque-Bera (JB):               17.212\n",
       "Skew:                           1.302   Prob(JB):                     0.000183\n",
       "Kurtosis:                       5.093   Cond. No.                         2.72\n",
       "==============================================================================\n",
       "\n",
       "Notes:\n",
       "[1] R² is computed without centering (uncentered) since the model does not contain a constant.\n",
       "[2] Standard Errors assume that the covariance matrix of the errors is correctly specified.\n",
       "\"\"\""
      ]
     },
     "execution_count": 4381,
     "metadata": {},
     "output_type": "execute_result"
    }
   ],
   "source": [
    "model = OLS(y1, X_pca).fit()\n",
    "model.summary()"
   ]
  },
  {
   "cell_type": "code",
   "execution_count": 4382,
   "metadata": {},
   "outputs": [
    {
     "data": {
      "text/html": [
       "<table class=\"simpletable\">\n",
       "<caption>OLS Regression Results</caption>\n",
       "<tr>\n",
       "  <th>Dep. Variable:</th>          <td>yield</td>      <th>  R-squared (uncentered):</th>      <td>   0.034</td>\n",
       "</tr>\n",
       "<tr>\n",
       "  <th>Model:</th>                   <td>OLS</td>       <th>  Adj. R-squared (uncentered):</th> <td>  -0.051</td>\n",
       "</tr>\n",
       "<tr>\n",
       "  <th>Method:</th>             <td>Least Squares</td>  <th>  F-statistic:       </th>          <td>  0.3981</td>\n",
       "</tr>\n",
       "<tr>\n",
       "  <th>Date:</th>             <td>Wed, 19 Jul 2023</td> <th>  Prob (F-statistic):</th>           <td> 0.755</td> \n",
       "</tr>\n",
       "<tr>\n",
       "  <th>Time:</th>                 <td>14:45:20</td>     <th>  Log-Likelihood:    </th>          <td>  33.969</td>\n",
       "</tr>\n",
       "<tr>\n",
       "  <th>No. Observations:</th>      <td>    37</td>      <th>  AIC:               </th>          <td>  -61.94</td>\n",
       "</tr>\n",
       "<tr>\n",
       "  <th>Df Residuals:</th>          <td>    34</td>      <th>  BIC:               </th>          <td>  -57.10</td>\n",
       "</tr>\n",
       "<tr>\n",
       "  <th>Df Model:</th>              <td>     3</td>      <th>                     </th>              <td> </td>   \n",
       "</tr>\n",
       "<tr>\n",
       "  <th>Covariance Type:</th>      <td>nonrobust</td>    <th>                     </th>              <td> </td>   \n",
       "</tr>\n",
       "</table>\n",
       "<table class=\"simpletable\">\n",
       "<tr>\n",
       "   <td></td>     <th>coef</th>     <th>std err</th>      <th>t</th>      <th>P>|t|</th>  <th>[0.025</th>    <th>0.975]</th>  \n",
       "</tr>\n",
       "<tr>\n",
       "  <th>x1</th> <td>    0.0009</td> <td>    0.008</td> <td>    0.113</td> <td> 0.911</td> <td>   -0.015</td> <td>    0.017</td>\n",
       "</tr>\n",
       "<tr>\n",
       "  <th>x2</th> <td>   -0.0058</td> <td>    0.017</td> <td>   -0.341</td> <td> 0.735</td> <td>   -0.040</td> <td>    0.029</td>\n",
       "</tr>\n",
       "<tr>\n",
       "  <th>x3</th> <td>    0.0226</td> <td>    0.022</td> <td>    1.032</td> <td> 0.309</td> <td>   -0.022</td> <td>    0.067</td>\n",
       "</tr>\n",
       "</table>\n",
       "<table class=\"simpletable\">\n",
       "<tr>\n",
       "  <th>Omnibus:</th>       <td>10.215</td> <th>  Durbin-Watson:     </th> <td>   0.223</td>\n",
       "</tr>\n",
       "<tr>\n",
       "  <th>Prob(Omnibus):</th> <td> 0.006</td> <th>  Jarque-Bera (JB):  </th> <td>   9.502</td>\n",
       "</tr>\n",
       "<tr>\n",
       "  <th>Skew:</th>          <td> 1.190</td> <th>  Prob(JB):          </th> <td> 0.00864</td>\n",
       "</tr>\n",
       "<tr>\n",
       "  <th>Kurtosis:</th>      <td> 3.709</td> <th>  Cond. No.          </th> <td>    2.72</td>\n",
       "</tr>\n",
       "</table><br/><br/>Notes:<br/>[1] R² is computed without centering (uncentered) since the model does not contain a constant.<br/>[2] Standard Errors assume that the covariance matrix of the errors is correctly specified."
      ],
      "text/latex": [
       "\\begin{center}\n",
       "\\begin{tabular}{lclc}\n",
       "\\toprule\n",
       "\\textbf{Dep. Variable:}    &      yield       & \\textbf{  R-squared (uncentered):}      &     0.034   \\\\\n",
       "\\textbf{Model:}            &       OLS        & \\textbf{  Adj. R-squared (uncentered):} &    -0.051   \\\\\n",
       "\\textbf{Method:}           &  Least Squares   & \\textbf{  F-statistic:       }          &    0.3981   \\\\\n",
       "\\textbf{Date:}             & Wed, 19 Jul 2023 & \\textbf{  Prob (F-statistic):}          &    0.755    \\\\\n",
       "\\textbf{Time:}             &     14:45:20     & \\textbf{  Log-Likelihood:    }          &    33.969   \\\\\n",
       "\\textbf{No. Observations:} &          37      & \\textbf{  AIC:               }          &    -61.94   \\\\\n",
       "\\textbf{Df Residuals:}     &          34      & \\textbf{  BIC:               }          &    -57.10   \\\\\n",
       "\\textbf{Df Model:}         &           3      & \\textbf{                     }          &             \\\\\n",
       "\\textbf{Covariance Type:}  &    nonrobust     & \\textbf{                     }          &             \\\\\n",
       "\\bottomrule\n",
       "\\end{tabular}\n",
       "\\begin{tabular}{lcccccc}\n",
       "            & \\textbf{coef} & \\textbf{std err} & \\textbf{t} & \\textbf{P$> |$t$|$} & \\textbf{[0.025} & \\textbf{0.975]}  \\\\\n",
       "\\midrule\n",
       "\\textbf{x1} &       0.0009  &        0.008     &     0.113  &         0.911        &       -0.015    &        0.017     \\\\\n",
       "\\textbf{x2} &      -0.0058  &        0.017     &    -0.341  &         0.735        &       -0.040    &        0.029     \\\\\n",
       "\\textbf{x3} &       0.0226  &        0.022     &     1.032  &         0.309        &       -0.022    &        0.067     \\\\\n",
       "\\bottomrule\n",
       "\\end{tabular}\n",
       "\\begin{tabular}{lclc}\n",
       "\\textbf{Omnibus:}       & 10.215 & \\textbf{  Durbin-Watson:     } &    0.223  \\\\\n",
       "\\textbf{Prob(Omnibus):} &  0.006 & \\textbf{  Jarque-Bera (JB):  } &    9.502  \\\\\n",
       "\\textbf{Skew:}          &  1.190 & \\textbf{  Prob(JB):          } &  0.00864  \\\\\n",
       "\\textbf{Kurtosis:}      &  3.709 & \\textbf{  Cond. No.          } &     2.72  \\\\\n",
       "\\bottomrule\n",
       "\\end{tabular}\n",
       "%\\caption{OLS Regression Results}\n",
       "\\end{center}\n",
       "\n",
       "Notes: \\newline\n",
       " [1] R² is computed without centering (uncentered) since the model does not contain a constant. \\newline\n",
       " [2] Standard Errors assume that the covariance matrix of the errors is correctly specified."
      ],
      "text/plain": [
       "<class 'statsmodels.iolib.summary.Summary'>\n",
       "\"\"\"\n",
       "                                 OLS Regression Results                                \n",
       "=======================================================================================\n",
       "Dep. Variable:                  yield   R-squared (uncentered):                   0.034\n",
       "Model:                            OLS   Adj. R-squared (uncentered):             -0.051\n",
       "Method:                 Least Squares   F-statistic:                             0.3981\n",
       "Date:                Wed, 19 Jul 2023   Prob (F-statistic):                       0.755\n",
       "Time:                        14:45:20   Log-Likelihood:                          33.969\n",
       "No. Observations:                  37   AIC:                                     -61.94\n",
       "Df Residuals:                      34   BIC:                                     -57.10\n",
       "Df Model:                           3                                                  \n",
       "Covariance Type:            nonrobust                                                  \n",
       "==============================================================================\n",
       "                 coef    std err          t      P>|t|      [0.025      0.975]\n",
       "------------------------------------------------------------------------------\n",
       "x1             0.0009      0.008      0.113      0.911      -0.015       0.017\n",
       "x2            -0.0058      0.017     -0.341      0.735      -0.040       0.029\n",
       "x3             0.0226      0.022      1.032      0.309      -0.022       0.067\n",
       "==============================================================================\n",
       "Omnibus:                       10.215   Durbin-Watson:                   0.223\n",
       "Prob(Omnibus):                  0.006   Jarque-Bera (JB):                9.502\n",
       "Skew:                           1.190   Prob(JB):                      0.00864\n",
       "Kurtosis:                       3.709   Cond. No.                         2.72\n",
       "==============================================================================\n",
       "\n",
       "Notes:\n",
       "[1] R² is computed without centering (uncentered) since the model does not contain a constant.\n",
       "[2] Standard Errors assume that the covariance matrix of the errors is correctly specified.\n",
       "\"\"\""
      ]
     },
     "execution_count": 4382,
     "metadata": {},
     "output_type": "execute_result"
    }
   ],
   "source": [
    "model = OLS(y2, X_pca).fit()\n",
    "model.summary()"
   ]
  },
  {
   "cell_type": "code",
   "execution_count": 4383,
   "metadata": {},
   "outputs": [
    {
     "data": {
      "text/html": [
       "<div>\n",
       "<style scoped>\n",
       "    .dataframe tbody tr th:only-of-type {\n",
       "        vertical-align: middle;\n",
       "    }\n",
       "\n",
       "    .dataframe tbody tr th {\n",
       "        vertical-align: top;\n",
       "    }\n",
       "\n",
       "    .dataframe thead th {\n",
       "        text-align: right;\n",
       "    }\n",
       "</style>\n",
       "<table border=\"1\" class=\"dataframe\">\n",
       "  <thead>\n",
       "    <tr style=\"text-align: right;\">\n",
       "      <th></th>\n",
       "      <th>0</th>\n",
       "      <th>1</th>\n",
       "      <th>2</th>\n",
       "    </tr>\n",
       "  </thead>\n",
       "  <tbody>\n",
       "    <tr>\n",
       "      <th>0</th>\n",
       "      <td>1.000000e+00</td>\n",
       "      <td>7.049034e-17</td>\n",
       "      <td>1.271091e-16</td>\n",
       "    </tr>\n",
       "    <tr>\n",
       "      <th>1</th>\n",
       "      <td>7.049034e-17</td>\n",
       "      <td>1.000000e+00</td>\n",
       "      <td>5.841200e-18</td>\n",
       "    </tr>\n",
       "    <tr>\n",
       "      <th>2</th>\n",
       "      <td>1.271091e-16</td>\n",
       "      <td>5.841200e-18</td>\n",
       "      <td>1.000000e+00</td>\n",
       "    </tr>\n",
       "  </tbody>\n",
       "</table>\n",
       "</div>"
      ],
      "text/plain": [
       "              0             1             2\n",
       "0  1.000000e+00  7.049034e-17  1.271091e-16\n",
       "1  7.049034e-17  1.000000e+00  5.841200e-18\n",
       "2  1.271091e-16  5.841200e-18  1.000000e+00"
      ]
     },
     "execution_count": 4383,
     "metadata": {},
     "output_type": "execute_result"
    }
   ],
   "source": [
    "x = pd.DataFrame(X_pca)\n",
    "x.corr()"
   ]
  },
  {
   "cell_type": "markdown",
   "metadata": {},
   "source": [
    "# T-SNE"
   ]
  },
  {
   "cell_type": "code",
   "execution_count": 4384,
   "metadata": {},
   "outputs": [
    {
     "data": {
      "text/html": [
       "<table class=\"simpletable\">\n",
       "<caption>OLS Regression Results</caption>\n",
       "<tr>\n",
       "  <th>Dep. Variable:</th>           <td>M0</td>        <th>  R-squared (uncentered):</th>      <td>   0.586</td>\n",
       "</tr>\n",
       "<tr>\n",
       "  <th>Model:</th>                   <td>OLS</td>       <th>  Adj. R-squared (uncentered):</th> <td>   0.562</td>\n",
       "</tr>\n",
       "<tr>\n",
       "  <th>Method:</th>             <td>Least Squares</td>  <th>  F-statistic:       </th>          <td>   24.77</td>\n",
       "</tr>\n",
       "<tr>\n",
       "  <th>Date:</th>             <td>Wed, 19 Jul 2023</td> <th>  Prob (F-statistic):</th>          <td>1.99e-07</td>\n",
       "</tr>\n",
       "<tr>\n",
       "  <th>Time:</th>                 <td>14:45:20</td>     <th>  Log-Likelihood:    </th>          <td> -188.19</td>\n",
       "</tr>\n",
       "<tr>\n",
       "  <th>No. Observations:</th>      <td>    37</td>      <th>  AIC:               </th>          <td>   380.4</td>\n",
       "</tr>\n",
       "<tr>\n",
       "  <th>Df Residuals:</th>          <td>    35</td>      <th>  BIC:               </th>          <td>   383.6</td>\n",
       "</tr>\n",
       "<tr>\n",
       "  <th>Df Model:</th>              <td>     2</td>      <th>                     </th>              <td> </td>   \n",
       "</tr>\n",
       "<tr>\n",
       "  <th>Covariance Type:</th>      <td>nonrobust</td>    <th>                     </th>              <td> </td>   \n",
       "</tr>\n",
       "</table>\n",
       "<table class=\"simpletable\">\n",
       "<tr>\n",
       "   <td></td>     <th>coef</th>     <th>std err</th>      <th>t</th>      <th>P>|t|</th>  <th>[0.025</th>    <th>0.975]</th>  \n",
       "</tr>\n",
       "<tr>\n",
       "  <th>x1</th> <td>   33.3442</td> <td>   10.543</td> <td>    3.163</td> <td> 0.003</td> <td>   11.942</td> <td>   54.747</td>\n",
       "</tr>\n",
       "<tr>\n",
       "  <th>x2</th> <td>   12.0777</td> <td>    1.876</td> <td>    6.437</td> <td> 0.000</td> <td>    8.269</td> <td>   15.887</td>\n",
       "</tr>\n",
       "</table>\n",
       "<table class=\"simpletable\">\n",
       "<tr>\n",
       "  <th>Omnibus:</th>       <td>13.245</td> <th>  Durbin-Watson:     </th> <td>   1.511</td>\n",
       "</tr>\n",
       "<tr>\n",
       "  <th>Prob(Omnibus):</th> <td> 0.001</td> <th>  Jarque-Bera (JB):  </th> <td>  13.525</td>\n",
       "</tr>\n",
       "<tr>\n",
       "  <th>Skew:</th>          <td> 1.248</td> <th>  Prob(JB):          </th> <td> 0.00116</td>\n",
       "</tr>\n",
       "<tr>\n",
       "  <th>Kurtosis:</th>      <td> 4.595</td> <th>  Cond. No.          </th> <td>    9.01</td>\n",
       "</tr>\n",
       "</table><br/><br/>Notes:<br/>[1] R² is computed without centering (uncentered) since the model does not contain a constant.<br/>[2] Standard Errors assume that the covariance matrix of the errors is correctly specified."
      ],
      "text/latex": [
       "\\begin{center}\n",
       "\\begin{tabular}{lclc}\n",
       "\\toprule\n",
       "\\textbf{Dep. Variable:}    &        M0        & \\textbf{  R-squared (uncentered):}      &     0.586   \\\\\n",
       "\\textbf{Model:}            &       OLS        & \\textbf{  Adj. R-squared (uncentered):} &     0.562   \\\\\n",
       "\\textbf{Method:}           &  Least Squares   & \\textbf{  F-statistic:       }          &     24.77   \\\\\n",
       "\\textbf{Date:}             & Wed, 19 Jul 2023 & \\textbf{  Prob (F-statistic):}          &  1.99e-07   \\\\\n",
       "\\textbf{Time:}             &     14:45:20     & \\textbf{  Log-Likelihood:    }          &   -188.19   \\\\\n",
       "\\textbf{No. Observations:} &          37      & \\textbf{  AIC:               }          &     380.4   \\\\\n",
       "\\textbf{Df Residuals:}     &          35      & \\textbf{  BIC:               }          &     383.6   \\\\\n",
       "\\textbf{Df Model:}         &           2      & \\textbf{                     }          &             \\\\\n",
       "\\textbf{Covariance Type:}  &    nonrobust     & \\textbf{                     }          &             \\\\\n",
       "\\bottomrule\n",
       "\\end{tabular}\n",
       "\\begin{tabular}{lcccccc}\n",
       "            & \\textbf{coef} & \\textbf{std err} & \\textbf{t} & \\textbf{P$> |$t$|$} & \\textbf{[0.025} & \\textbf{0.975]}  \\\\\n",
       "\\midrule\n",
       "\\textbf{x1} &      33.3442  &       10.543     &     3.163  &         0.003        &       11.942    &       54.747     \\\\\n",
       "\\textbf{x2} &      12.0777  &        1.876     &     6.437  &         0.000        &        8.269    &       15.887     \\\\\n",
       "\\bottomrule\n",
       "\\end{tabular}\n",
       "\\begin{tabular}{lclc}\n",
       "\\textbf{Omnibus:}       & 13.245 & \\textbf{  Durbin-Watson:     } &    1.511  \\\\\n",
       "\\textbf{Prob(Omnibus):} &  0.001 & \\textbf{  Jarque-Bera (JB):  } &   13.525  \\\\\n",
       "\\textbf{Skew:}          &  1.248 & \\textbf{  Prob(JB):          } &  0.00116  \\\\\n",
       "\\textbf{Kurtosis:}      &  4.595 & \\textbf{  Cond. No.          } &     9.01  \\\\\n",
       "\\bottomrule\n",
       "\\end{tabular}\n",
       "%\\caption{OLS Regression Results}\n",
       "\\end{center}\n",
       "\n",
       "Notes: \\newline\n",
       " [1] R² is computed without centering (uncentered) since the model does not contain a constant. \\newline\n",
       " [2] Standard Errors assume that the covariance matrix of the errors is correctly specified."
      ],
      "text/plain": [
       "<class 'statsmodels.iolib.summary.Summary'>\n",
       "\"\"\"\n",
       "                                 OLS Regression Results                                \n",
       "=======================================================================================\n",
       "Dep. Variable:                     M0   R-squared (uncentered):                   0.586\n",
       "Model:                            OLS   Adj. R-squared (uncentered):              0.562\n",
       "Method:                 Least Squares   F-statistic:                              24.77\n",
       "Date:                Wed, 19 Jul 2023   Prob (F-statistic):                    1.99e-07\n",
       "Time:                        14:45:20   Log-Likelihood:                         -188.19\n",
       "No. Observations:                  37   AIC:                                      380.4\n",
       "Df Residuals:                      35   BIC:                                      383.6\n",
       "Df Model:                           2                                                  \n",
       "Covariance Type:            nonrobust                                                  \n",
       "==============================================================================\n",
       "                 coef    std err          t      P>|t|      [0.025      0.975]\n",
       "------------------------------------------------------------------------------\n",
       "x1            33.3442     10.543      3.163      0.003      11.942      54.747\n",
       "x2            12.0777      1.876      6.437      0.000       8.269      15.887\n",
       "==============================================================================\n",
       "Omnibus:                       13.245   Durbin-Watson:                   1.511\n",
       "Prob(Omnibus):                  0.001   Jarque-Bera (JB):               13.525\n",
       "Skew:                           1.248   Prob(JB):                      0.00116\n",
       "Kurtosis:                       4.595   Cond. No.                         9.01\n",
       "==============================================================================\n",
       "\n",
       "Notes:\n",
       "[1] R² is computed without centering (uncentered) since the model does not contain a constant.\n",
       "[2] Standard Errors assume that the covariance matrix of the errors is correctly specified.\n",
       "\"\"\""
      ]
     },
     "execution_count": 4384,
     "metadata": {},
     "output_type": "execute_result"
    }
   ],
   "source": [
    "tsne = TSNE(n_components = 2, random_state = 10)\n",
    "\n",
    "X_tsne = tsne.fit_transform(X)\n",
    "\n",
    "model = OLS(y1, X_tsne).fit()\n",
    "model.summary()"
   ]
  },
  {
   "cell_type": "code",
   "execution_count": 4385,
   "metadata": {},
   "outputs": [
    {
     "data": {
      "text/html": [
       "<table class=\"simpletable\">\n",
       "<caption>OLS Regression Results</caption>\n",
       "<tr>\n",
       "  <th>Dep. Variable:</th>          <td>yield</td>      <th>  R-squared (uncentered):</th>      <td>   0.833</td>\n",
       "</tr>\n",
       "<tr>\n",
       "  <th>Model:</th>                   <td>OLS</td>       <th>  Adj. R-squared (uncentered):</th> <td>   0.824</td>\n",
       "</tr>\n",
       "<tr>\n",
       "  <th>Method:</th>             <td>Least Squares</td>  <th>  F-statistic:       </th>          <td>   87.59</td>\n",
       "</tr>\n",
       "<tr>\n",
       "  <th>Date:</th>             <td>Wed, 19 Jul 2023</td> <th>  Prob (F-statistic):</th>          <td>2.37e-14</td>\n",
       "</tr>\n",
       "<tr>\n",
       "  <th>Time:</th>                 <td>14:45:20</td>     <th>  Log-Likelihood:    </th>          <td>  66.494</td>\n",
       "</tr>\n",
       "<tr>\n",
       "  <th>No. Observations:</th>      <td>    37</td>      <th>  AIC:               </th>          <td>  -129.0</td>\n",
       "</tr>\n",
       "<tr>\n",
       "  <th>Df Residuals:</th>          <td>    35</td>      <th>  BIC:               </th>          <td>  -125.8</td>\n",
       "</tr>\n",
       "<tr>\n",
       "  <th>Df Model:</th>              <td>     2</td>      <th>                     </th>              <td> </td>   \n",
       "</tr>\n",
       "<tr>\n",
       "  <th>Covariance Type:</th>      <td>nonrobust</td>    <th>                     </th>              <td> </td>   \n",
       "</tr>\n",
       "</table>\n",
       "<table class=\"simpletable\">\n",
       "<tr>\n",
       "   <td></td>     <th>coef</th>     <th>std err</th>      <th>t</th>      <th>P>|t|</th>  <th>[0.025</th>    <th>0.975]</th>  \n",
       "</tr>\n",
       "<tr>\n",
       "  <th>x1</th> <td>   -0.0030</td> <td>    0.011</td> <td>   -0.274</td> <td> 0.786</td> <td>   -0.025</td> <td>    0.019</td>\n",
       "</tr>\n",
       "<tr>\n",
       "  <th>x2</th> <td>    0.0158</td> <td>    0.002</td> <td>    8.196</td> <td> 0.000</td> <td>    0.012</td> <td>    0.020</td>\n",
       "</tr>\n",
       "</table>\n",
       "<table class=\"simpletable\">\n",
       "<tr>\n",
       "  <th>Omnibus:</th>       <td>11.526</td> <th>  Durbin-Watson:     </th> <td>   1.322</td>\n",
       "</tr>\n",
       "<tr>\n",
       "  <th>Prob(Omnibus):</th> <td> 0.003</td> <th>  Jarque-Bera (JB):  </th> <td>  10.985</td>\n",
       "</tr>\n",
       "<tr>\n",
       "  <th>Skew:</th>          <td> 1.231</td> <th>  Prob(JB):          </th> <td> 0.00412</td>\n",
       "</tr>\n",
       "<tr>\n",
       "  <th>Kurtosis:</th>      <td> 4.030</td> <th>  Cond. No.          </th> <td>    9.01</td>\n",
       "</tr>\n",
       "</table><br/><br/>Notes:<br/>[1] R² is computed without centering (uncentered) since the model does not contain a constant.<br/>[2] Standard Errors assume that the covariance matrix of the errors is correctly specified."
      ],
      "text/latex": [
       "\\begin{center}\n",
       "\\begin{tabular}{lclc}\n",
       "\\toprule\n",
       "\\textbf{Dep. Variable:}    &      yield       & \\textbf{  R-squared (uncentered):}      &     0.833   \\\\\n",
       "\\textbf{Model:}            &       OLS        & \\textbf{  Adj. R-squared (uncentered):} &     0.824   \\\\\n",
       "\\textbf{Method:}           &  Least Squares   & \\textbf{  F-statistic:       }          &     87.59   \\\\\n",
       "\\textbf{Date:}             & Wed, 19 Jul 2023 & \\textbf{  Prob (F-statistic):}          &  2.37e-14   \\\\\n",
       "\\textbf{Time:}             &     14:45:20     & \\textbf{  Log-Likelihood:    }          &    66.494   \\\\\n",
       "\\textbf{No. Observations:} &          37      & \\textbf{  AIC:               }          &    -129.0   \\\\\n",
       "\\textbf{Df Residuals:}     &          35      & \\textbf{  BIC:               }          &    -125.8   \\\\\n",
       "\\textbf{Df Model:}         &           2      & \\textbf{                     }          &             \\\\\n",
       "\\textbf{Covariance Type:}  &    nonrobust     & \\textbf{                     }          &             \\\\\n",
       "\\bottomrule\n",
       "\\end{tabular}\n",
       "\\begin{tabular}{lcccccc}\n",
       "            & \\textbf{coef} & \\textbf{std err} & \\textbf{t} & \\textbf{P$> |$t$|$} & \\textbf{[0.025} & \\textbf{0.975]}  \\\\\n",
       "\\midrule\n",
       "\\textbf{x1} &      -0.0030  &        0.011     &    -0.274  &         0.786        &       -0.025    &        0.019     \\\\\n",
       "\\textbf{x2} &       0.0158  &        0.002     &     8.196  &         0.000        &        0.012    &        0.020     \\\\\n",
       "\\bottomrule\n",
       "\\end{tabular}\n",
       "\\begin{tabular}{lclc}\n",
       "\\textbf{Omnibus:}       & 11.526 & \\textbf{  Durbin-Watson:     } &    1.322  \\\\\n",
       "\\textbf{Prob(Omnibus):} &  0.003 & \\textbf{  Jarque-Bera (JB):  } &   10.985  \\\\\n",
       "\\textbf{Skew:}          &  1.231 & \\textbf{  Prob(JB):          } &  0.00412  \\\\\n",
       "\\textbf{Kurtosis:}      &  4.030 & \\textbf{  Cond. No.          } &     9.01  \\\\\n",
       "\\bottomrule\n",
       "\\end{tabular}\n",
       "%\\caption{OLS Regression Results}\n",
       "\\end{center}\n",
       "\n",
       "Notes: \\newline\n",
       " [1] R² is computed without centering (uncentered) since the model does not contain a constant. \\newline\n",
       " [2] Standard Errors assume that the covariance matrix of the errors is correctly specified."
      ],
      "text/plain": [
       "<class 'statsmodels.iolib.summary.Summary'>\n",
       "\"\"\"\n",
       "                                 OLS Regression Results                                \n",
       "=======================================================================================\n",
       "Dep. Variable:                  yield   R-squared (uncentered):                   0.833\n",
       "Model:                            OLS   Adj. R-squared (uncentered):              0.824\n",
       "Method:                 Least Squares   F-statistic:                              87.59\n",
       "Date:                Wed, 19 Jul 2023   Prob (F-statistic):                    2.37e-14\n",
       "Time:                        14:45:20   Log-Likelihood:                          66.494\n",
       "No. Observations:                  37   AIC:                                     -129.0\n",
       "Df Residuals:                      35   BIC:                                     -125.8\n",
       "Df Model:                           2                                                  \n",
       "Covariance Type:            nonrobust                                                  \n",
       "==============================================================================\n",
       "                 coef    std err          t      P>|t|      [0.025      0.975]\n",
       "------------------------------------------------------------------------------\n",
       "x1            -0.0030      0.011     -0.274      0.786      -0.025       0.019\n",
       "x2             0.0158      0.002      8.196      0.000       0.012       0.020\n",
       "==============================================================================\n",
       "Omnibus:                       11.526   Durbin-Watson:                   1.322\n",
       "Prob(Omnibus):                  0.003   Jarque-Bera (JB):               10.985\n",
       "Skew:                           1.231   Prob(JB):                      0.00412\n",
       "Kurtosis:                       4.030   Cond. No.                         9.01\n",
       "==============================================================================\n",
       "\n",
       "Notes:\n",
       "[1] R² is computed without centering (uncentered) since the model does not contain a constant.\n",
       "[2] Standard Errors assume that the covariance matrix of the errors is correctly specified.\n",
       "\"\"\""
      ]
     },
     "execution_count": 4385,
     "metadata": {},
     "output_type": "execute_result"
    }
   ],
   "source": [
    "# suggests non-linear relationship not captured by linear models\n",
    "model = OLS(y2, X_tsne).fit()\n",
    "model.summary()"
   ]
  },
  {
   "cell_type": "code",
   "execution_count": 4386,
   "metadata": {},
   "outputs": [
    {
     "data": {
      "image/png": "[encoded data removed]",
      "text/plain": [
       "<Figure size 640x480 with 2 Axes>"
      ]
     },
     "metadata": {},
     "output_type": "display_data"
    }
   ],
   "source": [
    "fig, ax = plt.subplots()\n",
    "\n",
    "scatter = ax.scatter(X_tsne[:, 0], X_tsne[:, 1], c=y1, cmap='viridis')\n",
    "\n",
    "# Add a colorbar\n",
    "cbar = fig.colorbar(scatter)\n",
    "cbar.set_label('M0')\n",
    "\n",
    "ax.set_xlabel('t-SNE Component 1')\n",
    "ax.set_ylabel('t-SNE Component 2')\n",
    "ax.set_title('t-SNE Components with Heatmap for Labels')\n",
    "\n",
    "plt.show()\n"
   ]
  },
  {
   "cell_type": "code",
   "execution_count": 4387,
   "metadata": {},
   "outputs": [
    {
     "data": {
      "image/png": "[encoded data removed]",
      "text/plain": [
       "<Figure size 640x480 with 2 Axes>"
      ]
     },
     "metadata": {},
     "output_type": "display_data"
    }
   ],
   "source": [
    "fig, ax = plt.subplots()\n",
    "\n",
    "scatter = ax.scatter(X_tsne[:, 0], X_tsne[:, 1], c=y2, cmap='viridis')\n",
    "\n",
    "cbar = fig.colorbar(scatter)\n",
    "cbar.set_label('yield')\n",
    "\n",
    "ax.set_xlabel('t-SNE Component 1')\n",
    "ax.set_ylabel('t-SNE Component 2')\n",
    "ax.set_title('t-SNE Components with Heatmap for Labels')\n",
    "\n",
    "plt.show()"
   ]
  },
  {
   "cell_type": "code",
   "execution_count": 4388,
   "metadata": {},
   "outputs": [],
   "source": [
    "outlier_indices = np.where(X_tsne[:, 0] > -0.25)\n",
    "outliers = X.loc[outlier_indices]"
   ]
  },
  {
   "cell_type": "code",
   "execution_count": 4389,
   "metadata": {},
   "outputs": [
    {
     "data": {
      "text/html": [
       "<div>\n",
       "<style scoped>\n",
       "    .dataframe tbody tr th:only-of-type {\n",
       "        vertical-align: middle;\n",
       "    }\n",
       "\n",
       "    .dataframe tbody tr th {\n",
       "        vertical-align: top;\n",
       "    }\n",
       "\n",
       "    .dataframe thead th {\n",
       "        text-align: right;\n",
       "    }\n",
       "</style>\n",
       "<table border=\"1\" class=\"dataframe\">\n",
       "  <thead>\n",
       "    <tr style=\"text-align: right;\">\n",
       "      <th></th>\n",
       "      <th>time (min)</th>\n",
       "      <th>m_xylene</th>\n",
       "      <th>NO</th>\n",
       "      <th>NO2</th>\n",
       "      <th>NOx</th>\n",
       "      <th>NOx/m_xy</th>\n",
       "    </tr>\n",
       "  </thead>\n",
       "  <tbody>\n",
       "    <tr>\n",
       "      <th>2</th>\n",
       "      <td>729</td>\n",
       "      <td>167.0</td>\n",
       "      <td>49.28</td>\n",
       "      <td>2.33</td>\n",
       "      <td>51.61</td>\n",
       "      <td>0.309042</td>\n",
       "    </tr>\n",
       "    <tr>\n",
       "      <th>3</th>\n",
       "      <td>728</td>\n",
       "      <td>291.0</td>\n",
       "      <td>89.64</td>\n",
       "      <td>2.77</td>\n",
       "      <td>92.41</td>\n",
       "      <td>0.317560</td>\n",
       "    </tr>\n",
       "    <tr>\n",
       "      <th>8</th>\n",
       "      <td>658</td>\n",
       "      <td>401.0</td>\n",
       "      <td>434.12</td>\n",
       "      <td>44.03</td>\n",
       "      <td>478.15</td>\n",
       "      <td>1.192394</td>\n",
       "    </tr>\n",
       "    <tr>\n",
       "      <th>9</th>\n",
       "      <td>664</td>\n",
       "      <td>404.2</td>\n",
       "      <td>432.00</td>\n",
       "      <td>42.92</td>\n",
       "      <td>474.92</td>\n",
       "      <td>1.174963</td>\n",
       "    </tr>\n",
       "    <tr>\n",
       "      <th>10</th>\n",
       "      <td>719</td>\n",
       "      <td>154.5</td>\n",
       "      <td>223.24</td>\n",
       "      <td>24.23</td>\n",
       "      <td>247.47</td>\n",
       "      <td>1.601748</td>\n",
       "    </tr>\n",
       "    <tr>\n",
       "      <th>11</th>\n",
       "      <td>724</td>\n",
       "      <td>155.5</td>\n",
       "      <td>222.59</td>\n",
       "      <td>23.81</td>\n",
       "      <td>246.40</td>\n",
       "      <td>1.584566</td>\n",
       "    </tr>\n",
       "    <tr>\n",
       "      <th>22</th>\n",
       "      <td>1095</td>\n",
       "      <td>71.2</td>\n",
       "      <td>69.02</td>\n",
       "      <td>0.94</td>\n",
       "      <td>69.96</td>\n",
       "      <td>0.982584</td>\n",
       "    </tr>\n",
       "    <tr>\n",
       "      <th>23</th>\n",
       "      <td>870</td>\n",
       "      <td>78.1</td>\n",
       "      <td>20.73</td>\n",
       "      <td>0.00</td>\n",
       "      <td>20.73</td>\n",
       "      <td>0.265429</td>\n",
       "    </tr>\n",
       "  </tbody>\n",
       "</table>\n",
       "</div>"
      ],
      "text/plain": [
       "    time (min)  m_xylene      NO    NO2     NOx  NOx/m_xy\n",
       "2          729     167.0   49.28   2.33   51.61  0.309042\n",
       "3          728     291.0   89.64   2.77   92.41  0.317560\n",
       "8          658     401.0  434.12  44.03  478.15  1.192394\n",
       "9          664     404.2  432.00  42.92  474.92  1.174963\n",
       "10         719     154.5  223.24  24.23  247.47  1.601748\n",
       "11         724     155.5  222.59  23.81  246.40  1.584566\n",
       "22        1095      71.2   69.02   0.94   69.96  0.982584\n",
       "23         870      78.1   20.73   0.00   20.73  0.265429"
      ]
     },
     "execution_count": 4389,
     "metadata": {},
     "output_type": "execute_result"
    }
   ],
   "source": [
    "outliers"
   ]
  },
  {
   "cell_type": "code",
   "execution_count": 4390,
   "metadata": {},
   "outputs": [
    {
     "data": {
      "text/plain": [
       "time (min)    773.375000\n",
       "m_xylene      215.312500\n",
       "NO            192.577500\n",
       "NO2            17.628750\n",
       "NOx           210.206250\n",
       "NOx/m_xy        0.928536\n",
       "dtype: float64"
      ]
     },
     "execution_count": 4390,
     "metadata": {},
     "output_type": "execute_result"
    }
   ],
   "source": [
    "outliers.mean()"
   ]
  },
  {
   "cell_type": "code",
   "execution_count": 4391,
   "metadata": {},
   "outputs": [],
   "source": [
    "with pd.ExcelWriter('written_data/temp.xlsx') as file:\n",
    "    outliers.mean().to_excel(file)"
   ]
  },
  {
   "cell_type": "code",
   "execution_count": 4392,
   "metadata": {},
   "outputs": [
    {
     "data": {
      "text/html": [
       "<div>\n",
       "<style scoped>\n",
       "    .dataframe tbody tr th:only-of-type {\n",
       "        vertical-align: middle;\n",
       "    }\n",
       "\n",
       "    .dataframe tbody tr th {\n",
       "        vertical-align: top;\n",
       "    }\n",
       "\n",
       "    .dataframe thead th {\n",
       "        text-align: right;\n",
       "    }\n",
       "</style>\n",
       "<table border=\"1\" class=\"dataframe\">\n",
       "  <thead>\n",
       "    <tr style=\"text-align: right;\">\n",
       "      <th></th>\n",
       "      <th>time (min)</th>\n",
       "      <th>m_xylene</th>\n",
       "      <th>NO</th>\n",
       "      <th>NO2</th>\n",
       "      <th>NOx</th>\n",
       "      <th>NOx/m_xy</th>\n",
       "    </tr>\n",
       "  </thead>\n",
       "  <tbody>\n",
       "    <tr>\n",
       "      <th>0</th>\n",
       "      <td>603</td>\n",
       "      <td>78.4000</td>\n",
       "      <td>21.30</td>\n",
       "      <td>0.98</td>\n",
       "      <td>22.28</td>\n",
       "      <td>0.284184</td>\n",
       "    </tr>\n",
       "    <tr>\n",
       "      <th>1</th>\n",
       "      <td>603</td>\n",
       "      <td>81.3000</td>\n",
       "      <td>64.40</td>\n",
       "      <td>1.15</td>\n",
       "      <td>65.55</td>\n",
       "      <td>0.806273</td>\n",
       "    </tr>\n",
       "    <tr>\n",
       "      <th>4</th>\n",
       "      <td>636</td>\n",
       "      <td>39.0000</td>\n",
       "      <td>8.76</td>\n",
       "      <td>1.05</td>\n",
       "      <td>9.81</td>\n",
       "      <td>0.251538</td>\n",
       "    </tr>\n",
       "    <tr>\n",
       "      <th>5</th>\n",
       "      <td>631</td>\n",
       "      <td>40.9000</td>\n",
       "      <td>8.62</td>\n",
       "      <td>0.91</td>\n",
       "      <td>9.53</td>\n",
       "      <td>0.233007</td>\n",
       "    </tr>\n",
       "    <tr>\n",
       "      <th>6</th>\n",
       "      <td>584</td>\n",
       "      <td>55.7000</td>\n",
       "      <td>6.82</td>\n",
       "      <td>2.86</td>\n",
       "      <td>9.68</td>\n",
       "      <td>0.173788</td>\n",
       "    </tr>\n",
       "    <tr>\n",
       "      <th>7</th>\n",
       "      <td>578</td>\n",
       "      <td>55.7000</td>\n",
       "      <td>6.92</td>\n",
       "      <td>2.63</td>\n",
       "      <td>9.55</td>\n",
       "      <td>0.171454</td>\n",
       "    </tr>\n",
       "    <tr>\n",
       "      <th>12</th>\n",
       "      <td>492</td>\n",
       "      <td>55.2000</td>\n",
       "      <td>7.03</td>\n",
       "      <td>10.56</td>\n",
       "      <td>17.59</td>\n",
       "      <td>0.318659</td>\n",
       "    </tr>\n",
       "    <tr>\n",
       "      <th>13</th>\n",
       "      <td>610</td>\n",
       "      <td>59.5000</td>\n",
       "      <td>15.30</td>\n",
       "      <td>10.23</td>\n",
       "      <td>25.53</td>\n",
       "      <td>0.429076</td>\n",
       "    </tr>\n",
       "    <tr>\n",
       "      <th>14</th>\n",
       "      <td>444</td>\n",
       "      <td>51.2000</td>\n",
       "      <td>13.67</td>\n",
       "      <td>8.63</td>\n",
       "      <td>22.30</td>\n",
       "      <td>0.435547</td>\n",
       "    </tr>\n",
       "    <tr>\n",
       "      <th>15</th>\n",
       "      <td>368</td>\n",
       "      <td>47.0000</td>\n",
       "      <td>21.00</td>\n",
       "      <td>1.56</td>\n",
       "      <td>22.56</td>\n",
       "      <td>0.480000</td>\n",
       "    </tr>\n",
       "    <tr>\n",
       "      <th>16</th>\n",
       "      <td>527</td>\n",
       "      <td>94.7000</td>\n",
       "      <td>43.35</td>\n",
       "      <td>1.93</td>\n",
       "      <td>45.28</td>\n",
       "      <td>0.478141</td>\n",
       "    </tr>\n",
       "    <tr>\n",
       "      <th>17</th>\n",
       "      <td>477</td>\n",
       "      <td>89.6000</td>\n",
       "      <td>46.29</td>\n",
       "      <td>3.87</td>\n",
       "      <td>50.16</td>\n",
       "      <td>0.559821</td>\n",
       "    </tr>\n",
       "    <tr>\n",
       "      <th>18</th>\n",
       "      <td>548</td>\n",
       "      <td>75.2000</td>\n",
       "      <td>44.31</td>\n",
       "      <td>1.48</td>\n",
       "      <td>45.79</td>\n",
       "      <td>0.608910</td>\n",
       "    </tr>\n",
       "    <tr>\n",
       "      <th>19</th>\n",
       "      <td>548</td>\n",
       "      <td>75.5000</td>\n",
       "      <td>44.78</td>\n",
       "      <td>1.49</td>\n",
       "      <td>46.27</td>\n",
       "      <td>0.612848</td>\n",
       "    </tr>\n",
       "    <tr>\n",
       "      <th>20</th>\n",
       "      <td>616</td>\n",
       "      <td>47.2000</td>\n",
       "      <td>46.38</td>\n",
       "      <td>2.80</td>\n",
       "      <td>49.18</td>\n",
       "      <td>1.041949</td>\n",
       "    </tr>\n",
       "    <tr>\n",
       "      <th>21</th>\n",
       "      <td>607</td>\n",
       "      <td>67.7000</td>\n",
       "      <td>11.40</td>\n",
       "      <td>0.45</td>\n",
       "      <td>11.85</td>\n",
       "      <td>0.175037</td>\n",
       "    </tr>\n",
       "    <tr>\n",
       "      <th>24</th>\n",
       "      <td>511</td>\n",
       "      <td>79.2000</td>\n",
       "      <td>44.87</td>\n",
       "      <td>6.45</td>\n",
       "      <td>51.32</td>\n",
       "      <td>0.647980</td>\n",
       "    </tr>\n",
       "    <tr>\n",
       "      <th>25</th>\n",
       "      <td>510</td>\n",
       "      <td>83.1000</td>\n",
       "      <td>45.64</td>\n",
       "      <td>6.73</td>\n",
       "      <td>52.37</td>\n",
       "      <td>0.630205</td>\n",
       "    </tr>\n",
       "    <tr>\n",
       "      <th>26</th>\n",
       "      <td>471</td>\n",
       "      <td>98.0000</td>\n",
       "      <td>59.27</td>\n",
       "      <td>7.64</td>\n",
       "      <td>66.91</td>\n",
       "      <td>0.682755</td>\n",
       "    </tr>\n",
       "    <tr>\n",
       "      <th>27</th>\n",
       "      <td>471</td>\n",
       "      <td>99.0000</td>\n",
       "      <td>58.37</td>\n",
       "      <td>8.32</td>\n",
       "      <td>66.69</td>\n",
       "      <td>0.673636</td>\n",
       "    </tr>\n",
       "    <tr>\n",
       "      <th>28</th>\n",
       "      <td>511</td>\n",
       "      <td>79.5600</td>\n",
       "      <td>36.83</td>\n",
       "      <td>2.49</td>\n",
       "      <td>39.32</td>\n",
       "      <td>0.494218</td>\n",
       "    </tr>\n",
       "    <tr>\n",
       "      <th>29</th>\n",
       "      <td>511</td>\n",
       "      <td>81.8000</td>\n",
       "      <td>35.20</td>\n",
       "      <td>4.12</td>\n",
       "      <td>39.32</td>\n",
       "      <td>0.480685</td>\n",
       "    </tr>\n",
       "    <tr>\n",
       "      <th>30</th>\n",
       "      <td>504</td>\n",
       "      <td>69.1800</td>\n",
       "      <td>42.29</td>\n",
       "      <td>0.00</td>\n",
       "      <td>42.29</td>\n",
       "      <td>0.611304</td>\n",
       "    </tr>\n",
       "    <tr>\n",
       "      <th>31</th>\n",
       "      <td>504</td>\n",
       "      <td>70.0500</td>\n",
       "      <td>42.67</td>\n",
       "      <td>0.00</td>\n",
       "      <td>42.67</td>\n",
       "      <td>0.609136</td>\n",
       "    </tr>\n",
       "    <tr>\n",
       "      <th>32</th>\n",
       "      <td>547</td>\n",
       "      <td>82.4000</td>\n",
       "      <td>17.97</td>\n",
       "      <td>0.00</td>\n",
       "      <td>17.97</td>\n",
       "      <td>0.218083</td>\n",
       "    </tr>\n",
       "    <tr>\n",
       "      <th>33</th>\n",
       "      <td>468</td>\n",
       "      <td>125.9000</td>\n",
       "      <td>19.96</td>\n",
       "      <td>0.52</td>\n",
       "      <td>20.48</td>\n",
       "      <td>0.162669</td>\n",
       "    </tr>\n",
       "    <tr>\n",
       "      <th>34</th>\n",
       "      <td>510</td>\n",
       "      <td>71.5502</td>\n",
       "      <td>50.74</td>\n",
       "      <td>0.10</td>\n",
       "      <td>50.84</td>\n",
       "      <td>0.710550</td>\n",
       "    </tr>\n",
       "    <tr>\n",
       "      <th>35</th>\n",
       "      <td>468</td>\n",
       "      <td>78.0500</td>\n",
       "      <td>22.84</td>\n",
       "      <td>28.58</td>\n",
       "      <td>51.42</td>\n",
       "      <td>0.658808</td>\n",
       "    </tr>\n",
       "    <tr>\n",
       "      <th>36</th>\n",
       "      <td>575</td>\n",
       "      <td>72.8400</td>\n",
       "      <td>22.22</td>\n",
       "      <td>0.00</td>\n",
       "      <td>22.22</td>\n",
       "      <td>0.305052</td>\n",
       "    </tr>\n",
       "  </tbody>\n",
       "</table>\n",
       "</div>"
      ],
      "text/plain": [
       "    time (min)  m_xylene     NO    NO2    NOx  NOx/m_xy\n",
       "0          603   78.4000  21.30   0.98  22.28  0.284184\n",
       "1          603   81.3000  64.40   1.15  65.55  0.806273\n",
       "4          636   39.0000   8.76   1.05   9.81  0.251538\n",
       "5          631   40.9000   8.62   0.91   9.53  0.233007\n",
       "6          584   55.7000   6.82   2.86   9.68  0.173788\n",
       "7          578   55.7000   6.92   2.63   9.55  0.171454\n",
       "12         492   55.2000   7.03  10.56  17.59  0.318659\n",
       "13         610   59.5000  15.30  10.23  25.53  0.429076\n",
       "14         444   51.2000  13.67   8.63  22.30  0.435547\n",
       "15         368   47.0000  21.00   1.56  22.56  0.480000\n",
       "16         527   94.7000  43.35   1.93  45.28  0.478141\n",
       "17         477   89.6000  46.29   3.87  50.16  0.559821\n",
       "18         548   75.2000  44.31   1.48  45.79  0.608910\n",
       "19         548   75.5000  44.78   1.49  46.27  0.612848\n",
       "20         616   47.2000  46.38   2.80  49.18  1.041949\n",
       "21         607   67.7000  11.40   0.45  11.85  0.175037\n",
       "24         511   79.2000  44.87   6.45  51.32  0.647980\n",
       "25         510   83.1000  45.64   6.73  52.37  0.630205\n",
       "26         471   98.0000  59.27   7.64  66.91  0.682755\n",
       "27         471   99.0000  58.37   8.32  66.69  0.673636\n",
       "28         511   79.5600  36.83   2.49  39.32  0.494218\n",
       "29         511   81.8000  35.20   4.12  39.32  0.480685\n",
       "30         504   69.1800  42.29   0.00  42.29  0.611304\n",
       "31         504   70.0500  42.67   0.00  42.67  0.609136\n",
       "32         547   82.4000  17.97   0.00  17.97  0.218083\n",
       "33         468  125.9000  19.96   0.52  20.48  0.162669\n",
       "34         510   71.5502  50.74   0.10  50.84  0.710550\n",
       "35         468   78.0500  22.84  28.58  51.42  0.658808\n",
       "36         575   72.8400  22.22   0.00  22.22  0.305052"
      ]
     },
     "execution_count": 4392,
     "metadata": {},
     "output_type": "execute_result"
    }
   ],
   "source": [
    "mask = ~X.index.isin(list(outlier_indices[0]))\n",
    "non_outliers = X.loc[mask]\n",
    "non_outliers"
   ]
  },
  {
   "cell_type": "code",
   "execution_count": 4393,
   "metadata": {},
   "outputs": [
    {
     "data": {
      "text/plain": [
       "time (min)    532.172414\n",
       "m_xylene       72.566559\n",
       "NO             31.351724\n",
       "NO2             4.052759\n",
       "NOx            35.404483\n",
       "NOx/m_xy        0.480873\n",
       "dtype: float64"
      ]
     },
     "execution_count": 4393,
     "metadata": {},
     "output_type": "execute_result"
    }
   ],
   "source": [
    "non_outliers.mean()"
   ]
  },
  {
   "cell_type": "code",
   "execution_count": 4394,
   "metadata": {},
   "outputs": [],
   "source": [
    "with pd.ExcelWriter('written_data/temp.xlsx') as file:\n",
    "    non_outliers.mean().to_excel(file)"
   ]
  },
  {
   "cell_type": "code",
   "execution_count": 4395,
   "metadata": {},
   "outputs": [
    {
     "data": {
      "text/html": [
       "<div>\n",
       "<style scoped>\n",
       "    .dataframe tbody tr th:only-of-type {\n",
       "        vertical-align: middle;\n",
       "    }\n",
       "\n",
       "    .dataframe tbody tr th {\n",
       "        vertical-align: top;\n",
       "    }\n",
       "\n",
       "    .dataframe thead th {\n",
       "        text-align: right;\n",
       "    }\n",
       "</style>\n",
       "<table border=\"1\" class=\"dataframe\">\n",
       "  <thead>\n",
       "    <tr style=\"text-align: right;\">\n",
       "      <th></th>\n",
       "      <th>time (min)</th>\n",
       "      <th>m_xylene</th>\n",
       "      <th>NO</th>\n",
       "      <th>NO2</th>\n",
       "      <th>NOx</th>\n",
       "      <th>NOx/m_xy</th>\n",
       "    </tr>\n",
       "  </thead>\n",
       "  <tbody>\n",
       "    <tr>\n",
       "      <th>3</th>\n",
       "      <td>728</td>\n",
       "      <td>291.0</td>\n",
       "      <td>89.64</td>\n",
       "      <td>2.77</td>\n",
       "      <td>92.41</td>\n",
       "      <td>0.317560</td>\n",
       "    </tr>\n",
       "    <tr>\n",
       "      <th>8</th>\n",
       "      <td>658</td>\n",
       "      <td>401.0</td>\n",
       "      <td>434.12</td>\n",
       "      <td>44.03</td>\n",
       "      <td>478.15</td>\n",
       "      <td>1.192394</td>\n",
       "    </tr>\n",
       "    <tr>\n",
       "      <th>9</th>\n",
       "      <td>664</td>\n",
       "      <td>404.2</td>\n",
       "      <td>432.00</td>\n",
       "      <td>42.92</td>\n",
       "      <td>474.92</td>\n",
       "      <td>1.174963</td>\n",
       "    </tr>\n",
       "    <tr>\n",
       "      <th>10</th>\n",
       "      <td>719</td>\n",
       "      <td>154.5</td>\n",
       "      <td>223.24</td>\n",
       "      <td>24.23</td>\n",
       "      <td>247.47</td>\n",
       "      <td>1.601748</td>\n",
       "    </tr>\n",
       "    <tr>\n",
       "      <th>11</th>\n",
       "      <td>724</td>\n",
       "      <td>155.5</td>\n",
       "      <td>222.59</td>\n",
       "      <td>23.81</td>\n",
       "      <td>246.40</td>\n",
       "      <td>1.584566</td>\n",
       "    </tr>\n",
       "    <tr>\n",
       "      <th>22</th>\n",
       "      <td>1095</td>\n",
       "      <td>71.2</td>\n",
       "      <td>69.02</td>\n",
       "      <td>0.94</td>\n",
       "      <td>69.96</td>\n",
       "      <td>0.982584</td>\n",
       "    </tr>\n",
       "  </tbody>\n",
       "</table>\n",
       "</div>"
      ],
      "text/plain": [
       "    time (min)  m_xylene      NO    NO2     NOx  NOx/m_xy\n",
       "3          728     291.0   89.64   2.77   92.41  0.317560\n",
       "8          658     401.0  434.12  44.03  478.15  1.192394\n",
       "9          664     404.2  432.00  42.92  474.92  1.174963\n",
       "10         719     154.5  223.24  24.23  247.47  1.601748\n",
       "11         724     155.5  222.59  23.81  246.40  1.584566\n",
       "22        1095      71.2   69.02   0.94   69.96  0.982584"
      ]
     },
     "execution_count": 4395,
     "metadata": {},
     "output_type": "execute_result"
    }
   ],
   "source": [
    "outlier_indices = np.where(X_pca[:, 0] > 0.4)\n",
    "X.loc[outlier_indices[0]]"
   ]
  },
  {
   "cell_type": "code",
   "execution_count": 4396,
   "metadata": {},
   "outputs": [
    {
     "data": {
      "text/plain": [
       "time (min)    764.666667\n",
       "m_xylene      246.233333\n",
       "NO            245.101667\n",
       "NO2            23.116667\n",
       "NOx           268.218333\n",
       "NOx/m_xy        1.142302\n",
       "dtype: float64"
      ]
     },
     "execution_count": 4396,
     "metadata": {},
     "output_type": "execute_result"
    }
   ],
   "source": [
    "X.loc[outlier_indices[0]].mean()"
   ]
  },
  {
   "cell_type": "code",
   "execution_count": null,
   "metadata": {},
   "outputs": [],
   "source": []
  }
 ],
 "metadata": {
  "kernelspec": {
   "display_name": "Python 3",
   "language": "python",
   "name": "python3"
  },
  "language_info": {
   "codemirror_mode": {
    "name": "ipython",
    "version": 3
   },
   "file_extension": ".py",
   "mimetype": "text/x-python",
   "name": "python",
   "nbconvert_exporter": "python",
   "pygments_lexer": "ipython3",
   "version": "3.11.3"
  },
  "orig_nbformat": 4
 },
 "nbformat": 4,
 "nbformat_minor": 2
}
