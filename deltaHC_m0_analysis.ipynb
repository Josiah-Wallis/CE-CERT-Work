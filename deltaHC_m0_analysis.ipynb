{
 "cells": [
  {
   "cell_type": "code",
   "execution_count": null,
   "metadata": {},
   "outputs": [],
   "source": [
    "import pandas as pd\n",
    "import numpy as np\n",
    "import matplotlib.pyplot as plt\n",
    "import seaborn as sns\n",
    "from sklearn.linear_model import LinearRegression\n",
    "\n",
    "data = pd.read_excel('data/data.xlsx', sheet_name = '1st Trial', names = ['time (min)', 'm_xylene', 'NO', 'NO2', 'NOx', 'NOx/m_xy', 'beta', 'NO,NO2 crossing time (min)', 'Wall loss factor', 'Peak O3 Concentration', '50% of Final M0 Time', 'PeakDp', 'deltaHC', 'm_xy consume ratio', 'deltaHC / beta', 'deltaHC * beta', 'M0', 'yield'])"
   ]
  },
  {
   "cell_type": "code",
   "execution_count": null,
   "metadata": {},
   "outputs": [],
   "source": [
    "X = data['deltaHC']\n",
    "y = data['M0']"
   ]
  },
  {
   "cell_type": "code",
   "execution_count": null,
   "metadata": {},
   "outputs": [],
   "source": [
    "X_reg = (X).to_numpy().reshape(-1, 1)\n",
    "y_reg = y.to_numpy().reshape(-1, 1)\n",
    "corr = np.round(X.corr(y), 3)\n",
    "model = LinearRegression()\n",
    "reg = model.fit(X_reg, y_reg)\n",
    "coef = reg.coef_\n",
    "intercept = reg.intercept_"
   ]
  },
  {
   "cell_type": "code",
   "execution_count": null,
   "metadata": {},
   "outputs": [],
   "source": [
    "plt.scatter(X, y, c = data['beta'], cmap = 'plasma')\n",
    "plt.plot(X_reg, X_reg @ coef + intercept, label = 'Regression', color = 'firebrick', linestyle = (0, (5, 10)))\n",
    "plt.xlabel('deltaHC', fontsize = 14)\n",
    "plt.ylabel('M0', fontsize = 14)\n",
    "plt.title(f'Beta Heatmap ({corr})', fontsize = 14)\n",
    "plt.grid()\n",
    "\n",
    "cbar = plt.colorbar()\n",
    "cbar.set_label('Beta', fontsize = 12)\n",
    "\n",
    "plt.legend()\n",
    "plt.show()"
   ]
  },
  {
   "cell_type": "code",
   "execution_count": null,
   "metadata": {},
   "outputs": [],
   "source": [
    "from mpl_toolkits.mplot3d import Axes3D\n",
    "\n",
    "fig = plt.figure(figsize=(10, 8))\n",
    "ax = fig.add_subplot(111, projection='3d')\n",
    "\n",
    "sc = ax.scatter(X, y, data['beta'], c = data['beta'], cmap='plasma', s=50)\n",
    "\n",
    "ax.set_title(\"Beta Heatmap\", fontsize=16, fontweight='bold', pad=20)\n",
    "ax.set_xlabel(\"deltaHC\", fontsize=14, labelpad=10)\n",
    "ax.set_ylabel(\"M0\", fontsize=14, labelpad=10)\n",
    "ax.set_zlabel(\"Beta\", fontsize=14, labelpad=10)\n",
    "ax.tick_params(axis='both', labelsize=12)\n",
    "\n",
    "cbar = fig.colorbar(sc, ax=ax, pad=0.1)\n",
    "cbar.set_label(\"Beta\", fontsize=12, labelpad=10)\n",
    "cbar.ax.tick_params(labelsize=12)\n",
    "\n",
    "plt.show()"
   ]
  },
  {
   "cell_type": "code",
   "execution_count": null,
   "metadata": {},
   "outputs": [],
   "source": [
    "logX = np.log(X)\n",
    "logY = np.log(y)"
   ]
  },
  {
   "cell_type": "code",
   "execution_count": null,
   "metadata": {},
   "outputs": [],
   "source": [
    "logdata = pd.DataFrame({'logX': logX, 'logY': logY})\n",
    "logdata.corr()"
   ]
  },
  {
   "cell_type": "code",
   "execution_count": null,
   "metadata": {},
   "outputs": [],
   "source": [
    "plt.scatter(X, y, marker = '^')\n",
    "plt.xlabel('deltaHC', fontsize = 14)\n",
    "plt.ylabel('M0', fontsize = 14)\n",
    "plt.title(f'deltaHC vs. M0 Scatterplot', fontsize = 14)\n",
    "plt.grid()\n",
    "plt.show()"
   ]
  },
  {
   "cell_type": "code",
   "execution_count": null,
   "metadata": {},
   "outputs": [],
   "source": [
    "plt.scatter(logX, logY, marker = '^')\n",
    "plt.xlabel('deltaHC', fontsize = 14)\n",
    "plt.ylabel('M0', fontsize = 14)\n",
    "plt.title(f'Log(deltaHC vs. M0) Scatterplot', fontsize = 14)\n",
    "plt.grid()\n",
    "plt.show()"
   ]
  },
  {
   "cell_type": "code",
   "execution_count": null,
   "metadata": {},
   "outputs": [],
   "source": [
    "from scipy.optimize import curve_fit\n",
    "\n",
    "def log_func(x, a, b):\n",
    "    return a * np.log(x) + b\n",
    "\n",
    "popt, pcov = curve_fit(log_func, X, y)\n",
    "\n",
    "plt.scatter(X, y, marker = '^')\n",
    "x_vals = np.linspace(X.min(), X.max(), 100)\n",
    "plt.plot(x_vals, log_func(x_vals, *popt), 'r-')\n",
    "plt.xlabel('deltaHC', fontsize = 14)\n",
    "plt.ylabel('M0', fontsize = 14)\n",
    "plt.title('Scatterplot with Fitted Logarithmic Curve', fontsize = 14)\n",
    "plt.grid()\n",
    "plt.show()"
   ]
  },
  {
   "cell_type": "code",
   "execution_count": null,
   "metadata": {},
   "outputs": [],
   "source": [
    "c = data['deltaHC / beta'] < data['deltaHC / beta'].mean()\n",
    "c_not = np.logical_not(c)\n",
    "popt1, pcov1 = curve_fit(log_func, X[c], y[c])\n",
    "xvals1 = np.linspace(X[c].min(), max([X[c].max(), X[c_not].max()]), 100)\n",
    "popt2, pcov2 = curve_fit(log_func, X[c_not], y[c_not])\n",
    "xvals2 = np.linspace(X[c_not].min(), max([X[c].max(), X[c_not].max()]), 100)\n",
    "\n",
    "plt.scatter(X[c], y[c], color = 'green', label = r'$\\rho < \\overline{\\rho}$')\n",
    "plt.plot(xvals1, log_func(xvals1, *popt1), color = 'green', label = r'$\\rho < \\overline{\\rho}$', linestyle = '--')\n",
    "plt.scatter(X[c_not], y[c_not], color = 'red', label = r'$\\rho \\geq \\overline{\\rho}$')\n",
    "plt.plot(xvals2, log_func(xvals2, *popt2), color = 'red', label = r'$\\rho \\geq \\overline{\\rho}$', linestyle = '--')\n",
    "plt.xlabel('deltaHC', fontsize = 14)\n",
    "plt.ylabel('M0', fontsize = 14)\n",
    "plt.title('M0 vs. HC Cluster Curves', fontsize = 14)\n",
    "plt.grid()\n",
    "plt.legend()\n",
    "plt.show()"
   ]
  },
  {
   "cell_type": "code",
   "execution_count": null,
   "metadata": {},
   "outputs": [],
   "source": [
    "from sklearn.cluster import KMeans\n",
    "\n",
    "df = pd.DataFrame({'X': X, 'Y': y})\n",
    "\n",
    "kmeans = KMeans(n_clusters=3, n_init = 'auto')\n",
    "df['cluster'] = kmeans.fit_predict(df[['X', 'Y']])\n",
    "\n",
    "sns.scatterplot(data=df, x='X', y='Y', hue='cluster', palette='flare')\n",
    "plt.title('Scatter Plot with Clusters', fontsize = 14)\n",
    "plt.xlabel('deltaHC', fontsize = 14)\n",
    "plt.ylabel('M0', fontsize = 14)\n",
    "plt.grid()\n",
    "plt.show()"
   ]
  },
  {
   "cell_type": "code",
   "execution_count": null,
   "metadata": {},
   "outputs": [],
   "source": []
  }
 ],
 "metadata": {
  "kernelspec": {
   "display_name": "Python 3",
   "language": "python",
   "name": "python3"
  },
  "language_info": {
   "codemirror_mode": {
    "name": "ipython",
    "version": 3
   },
   "file_extension": ".py",
   "mimetype": "text/x-python",
   "name": "python",
   "nbconvert_exporter": "python",
   "pygments_lexer": "ipython3",
   "version": "3.11.3"
  },
  "orig_nbformat": 4
 },
 "nbformat": 4,
 "nbformat_minor": 2
}
