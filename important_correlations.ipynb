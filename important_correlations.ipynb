{
 "cells": [
  {
   "cell_type": "code",
   "execution_count": null,
   "metadata": {},
   "outputs": [],
   "source": [
    "import pandas as pd\n",
    "import numpy as np\n",
    "from sklearn.decomposition import PCA\n",
    "from sklearn.manifold import TSNE\n",
    "from sklearn.linear_model import LinearRegression\n",
    "import matplotlib.pyplot as plt\n",
    "import seaborn as sns\n",
    "\n",
    "data = pd.read_excel('data/data.xlsx', sheet_name = '1st Trial', names = ['time (min)', 'm_xylene', 'NO', 'NO2', 'NOx', 'NOx/m_xy', 'beta', 'NO,NO2 crossing time (min)', 'Wall loss factor', 'Peak O3 Concentration', '50% of Final M0 Time', 'PeakDp', 'deltaHC', 'm_xy consume ratio', 'deltaHC / beta', 'deltaHC * beta', 'M0', 'yield'])\n"
   ]
  },
  {
   "cell_type": "code",
   "execution_count": null,
   "metadata": {},
   "outputs": [],
   "source": [
    "X = (data['m_xylene'] * data['deltaHC / beta']).to_numpy().reshape(-1, 1)\n",
    "y = data['M0'].to_numpy().reshape(-1, 1)\n",
    "corr = np.round((data['m_xylene'] * data['deltaHC / beta']).corr(data['M0']), 3)\n",
    "model = LinearRegression()\n",
    "reg = model.fit(X, y)\n",
    "coef = reg.coef_\n",
    "intercept = reg.intercept_"
   ]
  },
  {
   "cell_type": "code",
   "execution_count": null,
   "metadata": {},
   "outputs": [],
   "source": [
    "plt.scatter(X, y, label = 'Data', color = 'dodgerblue', marker = '^')\n",
    "plt.xlabel('m_xylene * deltaHC / beta')\n",
    "plt.ylabel('M0')\n",
    "plt.title(f'Best M0 Correlation ({corr})')\n",
    "\n",
    "plt.plot(X, X @ coef + intercept, label = 'Regression', color = 'springgreen', linestyle = (0, (5, 10)))\n",
    "\n",
    "plt.legend()\n",
    "plt.grid()"
   ]
  },
  {
   "cell_type": "code",
   "execution_count": null,
   "metadata": {},
   "outputs": [],
   "source": [
    "sns.set(style = 'white')\n",
    "g = sns.jointplot(x = data['m_xylene'] * data['deltaHC / beta'], y = data['M0'], data = data, kind = 'kde', height = 6, color = 'blue', fill = True)\n",
    "\n",
    "g.ax_joint.set_xlabel('m-xylene * deltaHC / beta', fontsize = 12)\n",
    "g.ax_joint.set_ylabel('M0', fontsize = 12)\n",
    "g.ax_marg_x.set_title('Density Estimation')\n",
    "\n",
    "#sns.despine(left = True, bottom = True)\n",
    "plt.grid()\n",
    "plt.show()"
   ]
  },
  {
   "cell_type": "code",
   "execution_count": null,
   "metadata": {},
   "outputs": [],
   "source": [
    "X = (data['PeakDp'] / data['50% of Final M0 Time']).to_numpy().reshape(-1, 1)\n",
    "y = data['yield'].to_numpy().reshape(-1, 1)\n",
    "corr = np.round((data['PeakDp'] / data['50% of Final M0 Time']).corr(data['yield']), 3)\n",
    "model = LinearRegression()\n",
    "reg = model.fit(X, y)\n",
    "coef = reg.coef_\n",
    "intercept = reg.intercept_"
   ]
  },
  {
   "cell_type": "code",
   "execution_count": null,
   "metadata": {},
   "outputs": [],
   "source": [
    "plt.scatter(X, y, label = 'Data', color = 'dodgerblue', marker = '^')\n",
    "plt.xlabel('PeakDp / 50% of Final M0 Time')\n",
    "plt.ylabel('Yield')\n",
    "plt.title(f'Best Yield Correlation ({corr})')\n",
    "\n",
    "plt.plot(X, X @ coef + intercept, label = 'Regression', color = 'springgreen', linestyle = (0, (5, 10)))\n",
    "\n",
    "plt.legend()\n",
    "plt.grid()"
   ]
  },
  {
   "cell_type": "code",
   "execution_count": null,
   "metadata": {},
   "outputs": [],
   "source": [
    "sns.set(style = 'white')\n",
    "g = sns.jointplot(x = data['PeakDp'] / data['50% of Final M0 Time'], y = data['yield'], data = data, kind = 'kde', height = 6, color = 'blue', fill = True)\n",
    "\n",
    "g.ax_joint.set_xlabel('PeakDp / 50% of Final M0 Time', fontsize = 12)\n",
    "g.ax_joint.set_ylabel('Yield', fontsize = 12)\n",
    "g.ax_marg_x.set_title('Density Estimation')\n",
    "\n",
    "#sns.despine(left = True, bottom = True)\n",
    "plt.grid()\n",
    "plt.show()"
   ]
  }
 ],
 "metadata": {
  "kernelspec": {
   "display_name": "Python 3",
   "language": "python",
   "name": "python3"
  },
  "language_info": {
   "codemirror_mode": {
    "name": "ipython",
    "version": 3
   },
   "file_extension": ".py",
   "mimetype": "text/x-python",
   "name": "python",
   "nbconvert_exporter": "python",
   "pygments_lexer": "ipython3",
   "version": "3.11.3"
  },
  "orig_nbformat": 4
 },
 "nbformat": 4,
 "nbformat_minor": 2
}
