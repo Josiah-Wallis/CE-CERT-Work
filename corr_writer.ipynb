{
 "cells": [
  {
   "cell_type": "markdown",
   "metadata": {},
   "source": [
    "# Relevant Imports"
   ]
  },
  {
   "cell_type": "code",
   "execution_count": 1,
   "metadata": {},
   "outputs": [],
   "source": [
    "from main_functions import *\n",
    "\n",
    "# turn off divide-by-zero warnings since these null/NAN values get filtered out\n",
    "import warnings\n",
    "warnings.filterwarnings(\"ignore\")\n",
    "\n",
    "# load experimental data\n",
    "data = pd.read_excel('data/data.xlsx', sheet_name = '1st Trial', names = ['time (min)', 'm_xylene', 'NO', 'NO2', 'NOx', 'NOx/m_xy', 'beta', 'NO,NO2 crossing time (min)', 'Wall loss factor', 'Peak O3 Concentration', '50% of Final M0 Time', 'PeakDp', 'deltaHC', 'm_xy consume ratio', 'deltaHC / beta', 'deltaHC * beta', 'M0', 'yield'])\n"
   ]
  },
  {
   "attachments": {},
   "cell_type": "markdown",
   "metadata": {},
   "source": [
    "# Summary Statistics"
   ]
  },
  {
   "cell_type": "code",
   "execution_count": 2,
   "metadata": {},
   "outputs": [],
   "source": [
    "summary = np.round(data.describe(), 3)\n",
    "with pd.ExcelWriter('written_data/No Transformations/summary.xlsx') as file:\n",
    "    summary.to_excel(file, sheet_name = 'Statistics')"
   ]
  },
  {
   "cell_type": "markdown",
   "metadata": {},
   "source": [
    "# Computing Correlations"
   ]
  },
  {
   "cell_type": "markdown",
   "metadata": {},
   "source": [
    "### No transformations"
   ]
  },
  {
   "cell_type": "code",
   "execution_count": 3,
   "metadata": {},
   "outputs": [],
   "source": [
    "# Determine end of input columns and end of intermediate columns\n",
    "inp, inter = grab_column_split()\n",
    "\n",
    "# Grab and color correlations\n",
    "correlations = data.corr()\n",
    "inter_correlations = np.round(correlations[data.columns[inp:inter]][:inp], 3)\n",
    "output_correlations = np.round(correlations[data.columns[inter:]][:-len(data.columns[inter:])], 3)\n",
    "\n",
    "inter_correlations = corr_highlight(inter_correlations)\n",
    "output_correlations = corr_highlight(output_correlations)"
   ]
  },
  {
   "cell_type": "code",
   "execution_count": 4,
   "metadata": {},
   "outputs": [],
   "source": [
    "# Hypothesis Testing for each computed correlation\n",
    "pvals = data.corr(method = lambda x,y: 1 if (pearsonr(x, y)[1] < 0.05) else 0)\n",
    "inter_pvals = pvals[data.columns[inp:inter]][:inp]\n",
    "output_pvals = pvals[data.columns[inter:]][:-len(data.columns[inter:])]\n",
    "\n",
    "# Highlight if significant\n",
    "inter_pvals = pval_highlight(inter_pvals)\n",
    "output_pvals = pval_highlight(output_pvals)"
   ]
  },
  {
   "cell_type": "code",
   "execution_count": 5,
   "metadata": {},
   "outputs": [],
   "source": [
    "# Compute R-squared\n",
    "cods = data.corr(method = lambda x,y: R2(x, y))\n",
    "inter_cods = np.round(cods[data.columns[inp:inter]][:inp], 3)\n",
    "output_cods = np.round(cods[data.columns[inter:]][:-len(data.columns[inter:])], 3)\n",
    "\n",
    "# Highlight similarly to correlations\n",
    "inter_cods = corr_highlight(inter_cods)\n",
    "output_cods = corr_highlight(output_cods)"
   ]
  },
  {
   "cell_type": "code",
   "execution_count": 6,
   "metadata": {},
   "outputs": [],
   "source": [
    "# Write to files\n",
    "with pd.ExcelWriter('written_data/No Transformations/correlations.xlsx') as file:\n",
    "    inter_correlations.to_excel(file, sheet_name = 'Intermediate Correlations')\n",
    "    output_correlations.to_excel(file, sheet_name = 'Output Correlations')\n",
    "    \n",
    "with pd.ExcelWriter('written_data/No Transformations/pvalues.xlsx') as file:\n",
    "    inter_pvals.to_excel(file, sheet_name = 'Intermediate P-Values')\n",
    "    output_pvals.to_excel(file, sheet_name = 'Output P-Values')\n",
    "    \n",
    "with pd.ExcelWriter('written_data/No Transformations/cods.xlsx') as file:\n",
    "    inter_cods.to_excel(file, sheet_name = 'Intermediate R2')\n",
    "    output_cods.to_excel(file, sheet_name = 'Output R2')"
   ]
  },
  {
   "cell_type": "markdown",
   "metadata": {},
   "source": [
    "### Input Values"
   ]
  },
  {
   "cell_type": "code",
   "execution_count": 7,
   "metadata": {},
   "outputs": [],
   "source": [
    "X = data[data.columns[:inp]]\n",
    "straight_corr = corr_highlight(np.round(X.corr(), 3))\n",
    "straight_pval = pval_highlight(X.corr(method = lambda x,y: 1 if (pearsonr(x, y)[1] < 0.05) else 0))\n",
    "straight_r2 = corr_highlight(np.round(X.corr(method = lambda x,y: R2(x, y)), 3))"
   ]
  },
  {
   "cell_type": "code",
   "execution_count": 8,
   "metadata": {},
   "outputs": [],
   "source": [
    "with pd.ExcelWriter('written_data/No Transformations/inp_w_inp.xlsx') as file:\n",
    "    straight_corr.to_excel(file, sheet_name = 'Correlations')\n",
    "    straight_pval.to_excel(file, sheet_name = 'P-Values')\n",
    "    straight_r2.to_excel(file, sheet_name = 'R2')"
   ]
  },
  {
   "attachments": {},
   "cell_type": "markdown",
   "metadata": {},
   "source": [
    "### Intermediate Values"
   ]
  },
  {
   "cell_type": "code",
   "execution_count": 9,
   "metadata": {},
   "outputs": [],
   "source": [
    "X = data[data.columns[inp:inter]]\n",
    "straight_corr = corr_highlight(np.round(X.corr(), 3))\n",
    "straight_pval = pval_highlight(X.corr(method = lambda x,y: 1 if (pearsonr(x, y)[1] < 0.05) else 0))\n",
    "straight_r2 = corr_highlight(np.round(X.corr(method = lambda x,y: R2(x, y)), 3))"
   ]
  },
  {
   "cell_type": "code",
   "execution_count": 10,
   "metadata": {},
   "outputs": [],
   "source": [
    "with pd.ExcelWriter('written_data/No Transformations/inter_w_inter.xlsx') as file:\n",
    "    straight_corr.to_excel(file, sheet_name = 'Correlations')\n",
    "    straight_pval.to_excel(file, sheet_name = 'P-Values')\n",
    "    straight_r2.to_excel(file, sheet_name = 'R2')"
   ]
  },
  {
   "cell_type": "markdown",
   "metadata": {},
   "source": [
    "### Perform above steps for transformations and combinations of variables"
   ]
  },
  {
   "cell_type": "code",
   "execution_count": 11,
   "metadata": {},
   "outputs": [],
   "source": [
    "f = lambda x, y: x + ' * ' + y\n",
    "prod_corrs = functional_corr(data, (inp, inter), np.multiply, f, 2)\n",
    "\n",
    "f = lambda x, y: x + ' / ' + y\n",
    "prop_corrs = functional_corr(data, (inp, inter), np.divide, f, 2, 0)\n",
    "\n",
    "f = lambda x: f'log({x})'\n",
    "log_corrs = functional_corr(data, (inp, inter), np.log, f, 1)\n",
    "\n",
    "f = lambda x: f'{x}^2'\n",
    "sqr_corrs = functional_corr(data, (inp, inter), np.square, f, 1)\n",
    "\n",
    "f = lambda x: f'{x}^3'\n",
    "cube_corrs = functional_corr(data, (inp, inter), lambda x: np.power(x, 3), f, 1)\n",
    "\n",
    "f = lambda x: f'sqrt({x})'\n",
    "sqrt_corrs = functional_corr(data, (inp, inter), np.sqrt, f, 1)\n",
    "\n",
    "corrs = [(prod_corrs, 'Product'), (prop_corrs, 'Proportion'), \n",
    "(log_corrs, 'Log'), (sqr_corrs, 'Square'), (cube_corrs, 'Cube'), (sqrt_corrs, 'Square Root')]\n",
    "\n",
    "for corr in corrs:\n",
    "    for i in range(3):\n",
    "        correlations = corr[0]['correlations'][i]\n",
    "        pvals = corr[0]['significance'][i]\n",
    "        cods = corr[0]['coeff of determination'][i]\n",
    "        \n",
    "        corr_hl = corr_highlight(correlations)\n",
    "        pval_hl = pval_highlight(pvals)\n",
    "        cod_hl = corr_highlight(cods)\n",
    "        \n",
    "        corr[0]['correlations'][i] = corr_hl\n",
    "        corr[0]['significance'][i] = pval_hl\n",
    "        corr[0]['coeff of determination'][i] = cod_hl"
   ]
  },
  {
   "cell_type": "markdown",
   "metadata": {},
   "source": [
    "### Save results"
   ]
  },
  {
   "cell_type": "code",
   "execution_count": 12,
   "metadata": {},
   "outputs": [],
   "source": [
    "# Write correlations to files\n",
    "with pd.ExcelWriter('written_data/Input w Intermediate Correlations/input_w_inter_corr_.xlsx') as file:\n",
    "    for corr in corrs:\n",
    "        correlations = corr[0]['correlations'][0]\n",
    "        correlations.to_excel(file, sheet_name = corr[1])\n",
    "\n",
    "with pd.ExcelWriter('written_data/All w Output Correlations/final_corr_.xlsx') as file:\n",
    "    for corr in corrs:\n",
    "        correlations = corr[0]['correlations'][2]\n",
    "        correlations.to_excel(file, sheet_name = corr[1])\n"
   ]
  },
  {
   "cell_type": "code",
   "execution_count": 13,
   "metadata": {},
   "outputs": [],
   "source": [
    "# Write hypothesis tests to files\n",
    "\n",
    "with pd.ExcelWriter('written_data/Input w Intermediate Correlations/input_w_inter_pvals_.xlsx') as file:\n",
    "    for corr in corrs:\n",
    "        correlations = corr[0]['significance'][0]\n",
    "        correlations.to_excel(file, sheet_name = corr[1])\n",
    "\n",
    "with pd.ExcelWriter('written_data/All w Output Correlations/final_pvals_.xlsx') as file:\n",
    "    for corr in corrs:\n",
    "        correlations = corr[0]['significance'][2]\n",
    "        correlations.to_excel(file, sheet_name = corr[1])\n"
   ]
  },
  {
   "cell_type": "code",
   "execution_count": 14,
   "metadata": {},
   "outputs": [],
   "source": [
    "# Write R-squared to files\n",
    "\n",
    "with pd.ExcelWriter('written_data/Input w Intermediate Correlations/input_w_inter_R2_.xlsx') as file:\n",
    "    for corr in corrs:\n",
    "        correlations = corr[0]['coeff of determination'][0]\n",
    "        correlations.to_excel(file, sheet_name = corr[1])\n",
    "\n",
    "with pd.ExcelWriter('written_data/All w Output Correlations/final_R2_.xlsx') as file:\n",
    "    for corr in corrs:\n",
    "        correlations = corr[0]['coeff of determination'][2]\n",
    "        correlations.to_excel(file, sheet_name = corr[1])"
   ]
  }
 ],
 "metadata": {
  "kernelspec": {
   "display_name": "Python 3.10.7 64-bit",
   "language": "python",
   "name": "python3"
  },
  "language_info": {
   "codemirror_mode": {
    "name": "ipython",
    "version": 3
   },
   "file_extension": ".py",
   "mimetype": "text/x-python",
   "name": "python",
   "nbconvert_exporter": "python",
   "pygments_lexer": "ipython3",
   "version": "3.11.3"
  },
  "orig_nbformat": 4,
  "vscode": {
   "interpreter": {
    "hash": "ba14182f2addf8401c8bd3cfab2a612ede3e43383081db6c97cf7288d8247d9f"
   }
  }
 },
 "nbformat": 4,
 "nbformat_minor": 2
}
