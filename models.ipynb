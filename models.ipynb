{
 "cells": [
  {
   "cell_type": "code",
   "execution_count": null,
   "metadata": {},
   "outputs": [],
   "source": [
    "import pandas as pd\n",
    "import numpy as np\n",
    "from sklearn.linear_model import LinearRegression\n",
    "from sklearn.ensemble import RandomForestRegressor\n",
    "from sklearn.preprocessing import StandardScaler\n",
    "from sklearn.model_selection import train_test_split\n",
    "import matplotlib.pyplot as plt\n",
    "\n",
    "data = pd.read_excel('data/data.xlsx', sheet_name = '1st Trial', names = ['time (min)', 'm_xylene', 'NO', 'NO2', 'NOx', 'NOx/m_xy', 'beta', 'NO,NO2 crossing time (min)', 'Wall loss factor', 'Peak O3 Concentration', '50% of Final M0 Time', 'PeakDp', 'deltaHC', 'm_xy consume ratio', 'deltaHC / beta', 'deltaHC * beta', 'M0', 'yield'])\n",
    "scaler = StandardScaler()"
   ]
  },
  {
   "cell_type": "code",
   "execution_count": null,
   "metadata": {},
   "outputs": [],
   "source": [
    "X = (data['m_xylene'] * data['deltaHC / beta']).to_numpy().reshape(-1, 1)\n",
    "y = data['M0'].to_numpy().reshape(-1, 1)"
   ]
  },
  {
   "cell_type": "code",
   "execution_count": null,
   "metadata": {},
   "outputs": [],
   "source": [
    "percent_errors = []\n",
    "for _ in range(1000):\n",
    "    state = np.random.randint(1, 1000)\n",
    "    X_train, X_test, y_train, y_test = train_test_split(X, y, test_size = 0.2, random_state = state)\n",
    "\n",
    "    lr = LinearRegression()\n",
    "    lr.fit(X_train, y_train)\n",
    "\n",
    "    y_pred = lr.predict(X_test)\n",
    "    percent_error = (100 * np.absolute(y_pred - y_test) / y_test).mean()\n",
    "    percent_errors.append(percent_error)\n",
    "percent_errors = np.array(percent_errors)\n",
    "print('Best M0 Correlation Model (Linear)')\n",
    "print(f'Average Percent Error: {np.round(percent_errors.mean(), 2)}%')"
   ]
  },
  {
   "cell_type": "code",
   "execution_count": null,
   "metadata": {},
   "outputs": [],
   "source": [
    "X = (data['PeakDp'] / data['50% of Final M0 Time']).to_numpy().reshape(-1, 1)\n",
    "y = data['yield'].to_numpy().reshape(-1, 1)\n",
    "percent_errors = []\n",
    "for _ in range(1000):\n",
    "    state = np.random.randint(1, 1000)\n",
    "    X_train, X_test, y_train, y_test = train_test_split(X, y, test_size = 0.2, random_state = state)\n",
    "\n",
    "    lr = LinearRegression()\n",
    "    lr.fit(X_train, y_train)\n",
    "\n",
    "    y_pred = lr.predict(X_test)\n",
    "    percent_error = (100 * np.absolute(y_pred - y_test) / y_test).mean()\n",
    "    percent_errors.append(percent_error)\n",
    "percent_errors = np.array(percent_errors)\n",
    "print('Best Yield Correlation Model (Linear)')\n",
    "print(f'Average Percent Error: {np.round(percent_errors.mean(), 2)}%')"
   ]
  },
  {
   "cell_type": "code",
   "execution_count": null,
   "metadata": {},
   "outputs": [],
   "source": [
    "X = data['NO'].to_numpy().reshape(-1, 1)#(data['PeakDp'] / data['50% of Final M0 Time']).to_numpy().reshape(-1, 1)\n",
    "y = data['M0'].to_numpy()\n",
    "percent_errors = []\n",
    "for _ in range(1000):\n",
    "    state1 = np.random.randint(1, 1000)\n",
    "    state2 = np.random.randint(1, 1000)\n",
    "    X_train, X_test, y_train, y_test = train_test_split(X, y, test_size = 0.2, random_state = state1)\n",
    "    X_train = scaler.fit_transform(X_train)\n",
    "    X_test = scaler.transform(X_test)\n",
    "\n",
    "    model = RandomForestRegressor(n_estimators = 100, random_state = state2)\n",
    "    model.fit(X_train, y_train)\n",
    "\n",
    "    y_pred = model.predict(X_test)\n",
    "    percent_error = (100 * np.absolute(y_pred - y_test) / y_test).mean()\n",
    "    percent_errors.append(percent_error)\n",
    "percent_errors = np.array(percent_errors)\n",
    "print('Best Yield Correlation Model (Nonlinear)')\n",
    "print(f'Average Percent Error: {np.round(percent_errors.mean(), 2)}%')"
   ]
  },
  {
   "cell_type": "code",
   "execution_count": null,
   "metadata": {},
   "outputs": [],
   "source": []
  }
 ],
 "metadata": {
  "kernelspec": {
   "display_name": "Python 3",
   "language": "python",
   "name": "python3"
  },
  "language_info": {
   "codemirror_mode": {
    "name": "ipython",
    "version": 3
   },
   "file_extension": ".py",
   "mimetype": "text/x-python",
   "name": "python",
   "nbconvert_exporter": "python",
   "pygments_lexer": "ipython3",
   "version": "3.11.3"
  },
  "orig_nbformat": 4
 },
 "nbformat": 4,
 "nbformat_minor": 2
}
