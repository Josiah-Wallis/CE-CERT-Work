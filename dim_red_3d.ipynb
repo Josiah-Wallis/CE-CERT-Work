{
 "cells": [
  {
   "cell_type": "code",
   "execution_count": null,
   "metadata": {},
   "outputs": [],
   "source": [
    "import pandas as pd\n",
    "import numpy as np\n",
    "from sklearn.decomposition import PCA\n",
    "from sklearn.manifold import TSNE\n",
    "import matplotlib.pyplot as plt\n",
    "from sklearn.model_selection import train_test_split\n",
    "from sklearn.preprocessing import StandardScaler\n",
    "from sklearn.ensemble import RandomForestRegressor\n",
    "import seaborn as sns\n",
    "from mpl_toolkits.mplot3d import Axes3D\n",
    "\n",
    "data = pd.read_excel('data/data.xlsx', sheet_name = '1st Trial', names = ['time (min)', 'm_xylene', 'NO', 'NO2', 'NOx', 'NOx/m_xy', 'beta', 'NO,NO2 crossing time (min)', 'Wall loss factor', 'Peak O3 Concentration', '50% of Final M0 Time', 'PeakDp', 'deltaHC', 'm_xy consume ratio', 'deltaHC / beta', 'deltaHC * beta', 'M0', 'yield'])\n"
   ]
  },
  {
   "cell_type": "code",
   "execution_count": null,
   "metadata": {},
   "outputs": [],
   "source": [
    "X = data.iloc[:, :-2]\n",
    "y = data.iloc[:, -2:]"
   ]
  },
  {
   "attachments": {},
   "cell_type": "markdown",
   "metadata": {},
   "source": [
    "# PCA 3D"
   ]
  },
  {
   "cell_type": "code",
   "execution_count": null,
   "metadata": {},
   "outputs": [],
   "source": [
    "n_components = 3\n",
    "pca = PCA(n_components = n_components)\n",
    "X_pca = pca.fit_transform(X)\n",
    "\n",
    "ratio = pca.explained_variance_ratio_\n",
    "f'Percent of Variance Captured by {n_components} Principal Components: {ratio.sum():.2%}'"
   ]
  },
  {
   "cell_type": "code",
   "execution_count": null,
   "metadata": {},
   "outputs": [],
   "source": [
    "loadings = pca.components_\n",
    "loadings = np.round(pd.DataFrame(loadings, columns = X.columns), 3)\n",
    "plt.figure(figsize = (12, 6))\n",
    "sns.set(font_scale = 1.2)\n",
    "sns.set_style('whitegrid')\n",
    "ax = sns.heatmap(loadings, annot = True, cmap = 'coolwarm', center = 0, linewidths = 0.5,\n",
    "            cbar_kws = {'shrink': 0.8, 'aspect': 10, 'pad': 0.02},\n",
    "            annot_kws = {'fontsize': 12})\n",
    "\n",
    "ax.tick_params(axis = 'both', labelsize = 12)\n",
    "ax.set_title('PCA Feature Influence', fontsize = 16, pad = 15)\n",
    "ax.set_xlabel('Features', fontsize = 14, labelpad = 10)\n",
    "ax.set_ylabel('Principal Components', fontsize = 14, labelpad = 10)\n",
    "\n",
    "ax.yaxis.set_ticklabels(ax.yaxis.get_ticklabels(), rotation=0, ha='right')\n",
    "\n",
    "plt.tight_layout()\n",
    "plt.show()"
   ]
  },
  {
   "cell_type": "code",
   "execution_count": null,
   "metadata": {},
   "outputs": [],
   "source": [
    "fig = plt.figure(figsize=(10, 8))\n",
    "ax = fig.add_subplot(111, projection='3d')\n",
    "\n",
    "sc = ax.scatter(X_pca[:, 0], X_pca[:, 1], X_pca[:, 2], c = data['M0'], cmap='plasma', s=50)\n",
    "\n",
    "ax.set_title(\"PCA M0 Heatmap\", fontsize=16, fontweight='bold', pad=20)\n",
    "ax.set_xlabel(\"PC1\", fontsize=14, labelpad=10)\n",
    "ax.set_ylabel(\"PC2\", fontsize=14, labelpad=10)\n",
    "ax.set_zlabel(\"PC3\", fontsize=14, labelpad=10)\n",
    "ax.tick_params(axis='both', labelsize=12)\n",
    "\n",
    "cbar = fig.colorbar(sc, ax=ax, pad=0.1)\n",
    "cbar.set_label(\"M0\", fontsize=12, labelpad=10)\n",
    "cbar.ax.tick_params(labelsize=12)\n",
    "\n",
    "plt.show()"
   ]
  },
  {
   "cell_type": "code",
   "execution_count": null,
   "metadata": {},
   "outputs": [],
   "source": [
    "fig = plt.figure(figsize=(10, 8))\n",
    "ax = fig.add_subplot(111, projection='3d')\n",
    "\n",
    "sc = ax.scatter(X_pca[:, 0], X_pca[:, 1], X_pca[:, 2], c = data['yield'], cmap='plasma', s=50)\n",
    "\n",
    "ax.set_title(\"PCA Yield Heatmap\", fontsize=16, fontweight='bold', pad=20)\n",
    "ax.set_xlabel(\"PC1\", fontsize=14, labelpad=10)\n",
    "ax.set_ylabel(\"PC2\", fontsize=14, labelpad=10)\n",
    "ax.set_zlabel(\"PC3\", fontsize=14, labelpad=10)\n",
    "ax.tick_params(axis='both', labelsize=12)\n",
    "\n",
    "cbar = fig.colorbar(sc, ax=ax, pad=0.1)\n",
    "cbar.set_label(\"Yield\", fontsize=12, labelpad=10)\n",
    "cbar.ax.tick_params(labelsize=12)\n",
    "\n",
    "plt.show()"
   ]
  },
  {
   "attachments": {},
   "cell_type": "markdown",
   "metadata": {},
   "source": [
    "# t-SNE 3D"
   ]
  },
  {
   "cell_type": "code",
   "execution_count": null,
   "metadata": {},
   "outputs": [],
   "source": [
    "tsne = TSNE(n_components = 3, random_state = 15)\n",
    "X_tsne = tsne.fit_transform(X)\n",
    "\n",
    "fig = plt.figure(figsize=(10, 8))\n",
    "ax = fig.add_subplot(111, projection='3d')\n",
    "\n",
    "sc = ax.scatter(X_tsne[:, 0], X_tsne[:, 1], X_tsne[:, 2], c = data['M0'], cmap='plasma', s=50)\n",
    "\n",
    "ax.set_title(\"t-SNE M0 Heatmap\", fontsize=16, fontweight='bold', pad=20)\n",
    "ax.set_xlabel(\"tsne1\", fontsize=14, labelpad=10)\n",
    "ax.set_ylabel(\"tsne2\", fontsize=14, labelpad=10)\n",
    "ax.set_zlabel(\"tsne3\", fontsize=14, labelpad=10)\n",
    "ax.tick_params(axis='both', labelsize=12)\n",
    "\n",
    "cbar = fig.colorbar(sc, ax=ax, pad=0.1)\n",
    "cbar.set_label(\"M0\", fontsize=12, labelpad=10)\n",
    "cbar.ax.tick_params(labelsize=12)\n",
    "\n",
    "# Show the plot\n",
    "plt.show()"
   ]
  },
  {
   "cell_type": "code",
   "execution_count": null,
   "metadata": {},
   "outputs": [],
   "source": [
    "fig = plt.figure(figsize=(10, 8))\n",
    "ax = fig.add_subplot(111, projection='3d')\n",
    "\n",
    "sc = ax.scatter(X_tsne[:, 0], X_tsne[:, 1], X_tsne[:, 2], c = data['yield'], cmap='plasma', s=50)\n",
    "\n",
    "ax.set_title(\"t-SNE Yield Heatmap\", fontsize=16, fontweight='bold', pad=20)\n",
    "ax.set_xlabel(\"tsne1\", fontsize=14, labelpad=10)\n",
    "ax.set_ylabel(\"tsne2\", fontsize=14, labelpad=10)\n",
    "ax.set_zlabel(\"tsne3\", fontsize=14, labelpad=10)\n",
    "ax.tick_params(axis='both', labelsize=12)\n",
    "\n",
    "cbar = fig.colorbar(sc, ax=ax, pad=0.1)\n",
    "cbar.set_label(\"Yield\", fontsize=12, labelpad=10)\n",
    "cbar.ax.tick_params(labelsize=12)\n",
    "\n",
    "plt.show()"
   ]
  },
  {
   "cell_type": "code",
   "execution_count": null,
   "metadata": {},
   "outputs": [],
   "source": []
  }
 ],
 "metadata": {
  "kernelspec": {
   "display_name": "Python 3",
   "language": "python",
   "name": "python3"
  },
  "language_info": {
   "codemirror_mode": {
    "name": "ipython",
    "version": 3
   },
   "file_extension": ".py",
   "mimetype": "text/x-python",
   "name": "python",
   "nbconvert_exporter": "python",
   "pygments_lexer": "ipython3",
   "version": "3.11.3"
  },
  "orig_nbformat": 4
 },
 "nbformat": 4,
 "nbformat_minor": 2
}
